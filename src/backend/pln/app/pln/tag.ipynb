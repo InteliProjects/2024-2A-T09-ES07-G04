{
 "cells": [
  {
   "cell_type": "markdown",
   "metadata": {},
   "source": [
    "# Libry Importations"
   ]
  },
  {
   "cell_type": "code",
   "execution_count": 17,
   "metadata": {},
   "outputs": [
    {
     "name": "stdout",
     "output_type": "stream",
     "text": [
      "Defaulting to user installation because normal site-packages is not writeable\n",
      "Requirement already satisfied: openai in c:\\users\\luigi\\appdata\\local\\packages\\pythonsoftwarefoundation.python.3.12_qbz5n2kfra8p0\\localcache\\local-packages\\python312\\site-packages (1.51.0)\n",
      "Requirement already satisfied: anyio<5,>=3.5.0 in c:\\users\\luigi\\appdata\\local\\packages\\pythonsoftwarefoundation.python.3.12_qbz5n2kfra8p0\\localcache\\local-packages\\python312\\site-packages (from openai) (4.6.0)\n",
      "Requirement already satisfied: distro<2,>=1.7.0 in c:\\users\\luigi\\appdata\\local\\packages\\pythonsoftwarefoundation.python.3.12_qbz5n2kfra8p0\\localcache\\local-packages\\python312\\site-packages (from openai) (1.9.0)\n",
      "Requirement already satisfied: httpx<1,>=0.23.0 in c:\\users\\luigi\\appdata\\local\\packages\\pythonsoftwarefoundation.python.3.12_qbz5n2kfra8p0\\localcache\\local-packages\\python312\\site-packages (from openai) (0.27.2)\n",
      "Requirement already satisfied: jiter<1,>=0.4.0 in c:\\users\\luigi\\appdata\\local\\packages\\pythonsoftwarefoundation.python.3.12_qbz5n2kfra8p0\\localcache\\local-packages\\python312\\site-packages (from openai) (0.6.0)\n",
      "Requirement already satisfied: pydantic<3,>=1.9.0 in c:\\users\\luigi\\appdata\\local\\packages\\pythonsoftwarefoundation.python.3.12_qbz5n2kfra8p0\\localcache\\local-packages\\python312\\site-packages (from openai) (2.9.2)\n",
      "Requirement already satisfied: sniffio in c:\\users\\luigi\\appdata\\local\\packages\\pythonsoftwarefoundation.python.3.12_qbz5n2kfra8p0\\localcache\\local-packages\\python312\\site-packages (from openai) (1.3.1)\n",
      "Requirement already satisfied: tqdm>4 in c:\\users\\luigi\\appdata\\local\\packages\\pythonsoftwarefoundation.python.3.12_qbz5n2kfra8p0\\localcache\\local-packages\\python312\\site-packages (from openai) (4.66.5)\n",
      "Requirement already satisfied: typing-extensions<5,>=4.11 in c:\\users\\luigi\\appdata\\local\\packages\\pythonsoftwarefoundation.python.3.12_qbz5n2kfra8p0\\localcache\\local-packages\\python312\\site-packages (from openai) (4.12.2)\n",
      "Requirement already satisfied: idna>=2.8 in c:\\users\\luigi\\appdata\\local\\packages\\pythonsoftwarefoundation.python.3.12_qbz5n2kfra8p0\\localcache\\local-packages\\python312\\site-packages (from anyio<5,>=3.5.0->openai) (3.10)\n",
      "Requirement already satisfied: certifi in c:\\users\\luigi\\appdata\\local\\packages\\pythonsoftwarefoundation.python.3.12_qbz5n2kfra8p0\\localcache\\local-packages\\python312\\site-packages (from httpx<1,>=0.23.0->openai) (2024.8.30)\n",
      "Requirement already satisfied: httpcore==1.* in c:\\users\\luigi\\appdata\\local\\packages\\pythonsoftwarefoundation.python.3.12_qbz5n2kfra8p0\\localcache\\local-packages\\python312\\site-packages (from httpx<1,>=0.23.0->openai) (1.0.6)\n",
      "Requirement already satisfied: h11<0.15,>=0.13 in c:\\users\\luigi\\appdata\\local\\packages\\pythonsoftwarefoundation.python.3.12_qbz5n2kfra8p0\\localcache\\local-packages\\python312\\site-packages (from httpcore==1.*->httpx<1,>=0.23.0->openai) (0.14.0)\n",
      "Requirement already satisfied: annotated-types>=0.6.0 in c:\\users\\luigi\\appdata\\local\\packages\\pythonsoftwarefoundation.python.3.12_qbz5n2kfra8p0\\localcache\\local-packages\\python312\\site-packages (from pydantic<3,>=1.9.0->openai) (0.7.0)\n",
      "Requirement already satisfied: pydantic-core==2.23.4 in c:\\users\\luigi\\appdata\\local\\packages\\pythonsoftwarefoundation.python.3.12_qbz5n2kfra8p0\\localcache\\local-packages\\python312\\site-packages (from pydantic<3,>=1.9.0->openai) (2.23.4)\n",
      "Requirement already satisfied: colorama in c:\\users\\luigi\\appdata\\local\\packages\\pythonsoftwarefoundation.python.3.12_qbz5n2kfra8p0\\localcache\\local-packages\\python312\\site-packages (from tqdm>4->openai) (0.4.6)\n",
      "Note: you may need to restart the kernel to use updated packages.\n",
      "Defaulting to user installation because normal site-packages is not writeableNote: you may need to restart the kernel to use updated packages.\n",
      "\n",
      "Requirement already satisfied: scikit-learn in c:\\users\\luigi\\appdata\\local\\packages\\pythonsoftwarefoundation.python.3.12_qbz5n2kfra8p0\\localcache\\local-packages\\python312\\site-packages (1.5.2)\n",
      "Requirement already satisfied: numpy>=1.19.5 in c:\\users\\luigi\\appdata\\local\\packages\\pythonsoftwarefoundation.python.3.12_qbz5n2kfra8p0\\localcache\\local-packages\\python312\\site-packages (from scikit-learn) (2.0.2)\n",
      "Requirement already satisfied: scipy>=1.6.0 in c:\\users\\luigi\\appdata\\local\\packages\\pythonsoftwarefoundation.python.3.12_qbz5n2kfra8p0\\localcache\\local-packages\\python312\\site-packages (from scikit-learn) (1.14.1)\n",
      "Requirement already satisfied: joblib>=1.2.0 in c:\\users\\luigi\\appdata\\local\\packages\\pythonsoftwarefoundation.python.3.12_qbz5n2kfra8p0\\localcache\\local-packages\\python312\\site-packages (from scikit-learn) (1.4.2)\n",
      "Requirement already satisfied: threadpoolctl>=3.1.0 in c:\\users\\luigi\\appdata\\local\\packages\\pythonsoftwarefoundation.python.3.12_qbz5n2kfra8p0\\localcache\\local-packages\\python312\\site-packages (from scikit-learn) (3.5.0)\n",
      "Defaulting to user installation because normal site-packages is not writeable\n",
      "Requirement already satisfied: numpy in c:\\users\\luigi\\appdata\\local\\packages\\pythonsoftwarefoundation.python.3.12_qbz5n2kfra8p0\\localcache\\local-packages\\python312\\site-packages (2.0.2)\n",
      "Requirement already satisfied: spacy in c:\\users\\luigi\\appdata\\local\\packages\\pythonsoftwarefoundation.python.3.12_qbz5n2kfra8p0\\localcache\\local-packages\\python312\\site-packages (3.8.2)\n",
      "Requirement already satisfied: spacy-legacy<3.1.0,>=3.0.11 in c:\\users\\luigi\\appdata\\local\\packages\\pythonsoftwarefoundation.python.3.12_qbz5n2kfra8p0\\localcache\\local-packages\\python312\\site-packages (from spacy) (3.0.12)\n",
      "Requirement already satisfied: spacy-loggers<2.0.0,>=1.0.0 in c:\\users\\luigi\\appdata\\local\\packages\\pythonsoftwarefoundation.python.3.12_qbz5n2kfra8p0\\localcache\\local-packages\\python312\\site-packages (from spacy) (1.0.5)\n",
      "Requirement already satisfied: murmurhash<1.1.0,>=0.28.0 in c:\\users\\luigi\\appdata\\local\\packages\\pythonsoftwarefoundation.python.3.12_qbz5n2kfra8p0\\localcache\\local-packages\\python312\\site-packages (from spacy) (1.0.10)\n",
      "Requirement already satisfied: cymem<2.1.0,>=2.0.2 in c:\\users\\luigi\\appdata\\local\\packages\\pythonsoftwarefoundation.python.3.12_qbz5n2kfra8p0\\localcache\\local-packages\\python312\\site-packages (from spacy) (2.0.8)\n",
      "Requirement already satisfied: preshed<3.1.0,>=3.0.2 in c:\\users\\luigi\\appdata\\local\\packages\\pythonsoftwarefoundation.python.3.12_qbz5n2kfra8p0\\localcache\\local-packages\\python312\\site-packages (from spacy) (3.0.9)\n",
      "Requirement already satisfied: thinc<8.4.0,>=8.3.0 in c:\\users\\luigi\\appdata\\local\\packages\\pythonsoftwarefoundation.python.3.12_qbz5n2kfra8p0\\localcache\\local-packages\\python312\\site-packages (from spacy) (8.3.2)\n",
      "Requirement already satisfied: wasabi<1.2.0,>=0.9.1 in c:\\users\\luigi\\appdata\\local\\packages\\pythonsoftwarefoundation.python.3.12_qbz5n2kfra8p0\\localcache\\local-packages\\python312\\site-packages (from spacy) (1.1.3)\n",
      "Requirement already satisfied: srsly<3.0.0,>=2.4.3 in c:\\users\\luigi\\appdata\\local\\packages\\pythonsoftwarefoundation.python.3.12_qbz5n2kfra8p0\\localcache\\local-packages\\python312\\site-packages (from spacy) (2.4.8)\n",
      "Requirement already satisfied: catalogue<2.1.0,>=2.0.6 in c:\\users\\luigi\\appdata\\local\\packages\\pythonsoftwarefoundation.python.3.12_qbz5n2kfra8p0\\localcache\\local-packages\\python312\\site-packages (from spacy) (2.0.10)\n",
      "Requirement already satisfied: weasel<0.5.0,>=0.1.0 in c:\\users\\luigi\\appdata\\local\\packages\\pythonsoftwarefoundation.python.3.12_qbz5n2kfra8p0\\localcache\\local-packages\\python312\\site-packages (from spacy) (0.4.1)\n",
      "Requirement already satisfied: typer<1.0.0,>=0.3.0 in c:\\users\\luigi\\appdata\\local\\packages\\pythonsoftwarefoundation.python.3.12_qbz5n2kfra8p0\\localcache\\local-packages\\python312\\site-packages (from spacy) (0.12.5)\n",
      "Requirement already satisfied: tqdm<5.0.0,>=4.38.0 in c:\\users\\luigi\\appdata\\local\\packages\\pythonsoftwarefoundation.python.3.12_qbz5n2kfra8p0\\localcache\\local-packages\\python312\\site-packages (from spacy) (4.66.5)\n",
      "Requirement already satisfied: requests<3.0.0,>=2.13.0 in c:\\users\\luigi\\appdata\\local\\packages\\pythonsoftwarefoundation.python.3.12_qbz5n2kfra8p0\\localcache\\local-packages\\python312\\site-packages (from spacy) (2.32.3)\n",
      "Requirement already satisfied: pydantic!=1.8,!=1.8.1,<3.0.0,>=1.7.4 in c:\\users\\luigi\\appdata\\local\\packages\\pythonsoftwarefoundation.python.3.12_qbz5n2kfra8p0\\localcache\\local-packages\\python312\\site-packages (from spacy) (2.9.2)\n",
      "Requirement already satisfied: jinja2 in c:\\users\\luigi\\appdata\\local\\packages\\pythonsoftwarefoundation.python.3.12_qbz5n2kfra8p0\\localcache\\local-packages\\python312\\site-packages (from spacy) (3.1.4)\n",
      "Requirement already satisfied: setuptools in c:\\users\\luigi\\appdata\\local\\packages\\pythonsoftwarefoundation.python.3.12_qbz5n2kfra8p0\\localcache\\local-packages\\python312\\site-packages (from spacy) (75.1.0)\n",
      "Requirement already satisfied: packaging>=20.0 in c:\\users\\luigi\\appdata\\local\\packages\\pythonsoftwarefoundation.python.3.12_qbz5n2kfra8p0\\localcache\\local-packages\\python312\\site-packages (from spacy) (24.1)\n",
      "Requirement already satisfied: langcodes<4.0.0,>=3.2.0 in c:\\users\\luigi\\appdata\\local\\packages\\pythonsoftwarefoundation.python.3.12_qbz5n2kfra8p0\\localcache\\local-packages\\python312\\site-packages (from spacy) (3.4.1)\n",
      "Requirement already satisfied: language-data>=1.2 in c:\\users\\luigi\\appdata\\local\\packages\\pythonsoftwarefoundation.python.3.12_qbz5n2kfra8p0\\localcache\\local-packages\\python312\\site-packages (from langcodes<4.0.0,>=3.2.0->spacy) (1.2.0)\n",
      "Requirement already satisfied: annotated-types>=0.6.0 in c:\\users\\luigi\\appdata\\local\\packages\\pythonsoftwarefoundation.python.3.12_qbz5n2kfra8p0\\localcache\\local-packages\\python312\\site-packages (from pydantic!=1.8,!=1.8.1,<3.0.0,>=1.7.4->spacy) (0.7.0)\n",
      "Requirement already satisfied: pydantic-core==2.23.4 in c:\\users\\luigi\\appdata\\local\\packages\\pythonsoftwarefoundation.python.3.12_qbz5n2kfra8p0\\localcache\\local-packages\\python312\\site-packages (from pydantic!=1.8,!=1.8.1,<3.0.0,>=1.7.4->spacy) (2.23.4)\n",
      "Requirement already satisfied: typing-extensions>=4.6.1 in c:\\users\\luigi\\appdata\\local\\packages\\pythonsoftwarefoundation.python.3.12_qbz5n2kfra8p0\\localcache\\local-packages\\python312\\site-packages (from pydantic!=1.8,!=1.8.1,<3.0.0,>=1.7.4->spacy) (4.12.2)\n",
      "Requirement already satisfied: charset-normalizer<4,>=2 in c:\\users\\luigi\\appdata\\local\\packages\\pythonsoftwarefoundation.python.3.12_qbz5n2kfra8p0\\localcache\\local-packages\\python312\\site-packages (from requests<3.0.0,>=2.13.0->spacy) (3.3.2)\n",
      "Requirement already satisfied: idna<4,>=2.5 in c:\\users\\luigi\\appdata\\local\\packages\\pythonsoftwarefoundation.python.3.12_qbz5n2kfra8p0\\localcache\\local-packages\\python312\\site-packages (from requests<3.0.0,>=2.13.0->spacy) (3.10)\n",
      "Requirement already satisfied: urllib3<3,>=1.21.1 in c:\\users\\luigi\\appdata\\local\\packages\\pythonsoftwarefoundation.python.3.12_qbz5n2kfra8p0\\localcache\\local-packages\\python312\\site-packages (from requests<3.0.0,>=2.13.0->spacy) (2.2.3)\n",
      "Requirement already satisfied: certifi>=2017.4.17 in c:\\users\\luigi\\appdata\\local\\packages\\pythonsoftwarefoundation.python.3.12_qbz5n2kfra8p0\\localcache\\local-packages\\python312\\site-packages (from requests<3.0.0,>=2.13.0->spacy) (2024.8.30)\n",
      "Requirement already satisfied: blis<1.1.0,>=1.0.0 in c:\\users\\luigi\\appdata\\local\\packages\\pythonsoftwarefoundation.python.3.12_qbz5n2kfra8p0\\localcache\\local-packages\\python312\\site-packages (from thinc<8.4.0,>=8.3.0->spacy) (1.0.1)\n",
      "Requirement already satisfied: confection<1.0.0,>=0.0.1 in c:\\users\\luigi\\appdata\\local\\packages\\pythonsoftwarefoundation.python.3.12_qbz5n2kfra8p0\\localcache\\local-packages\\python312\\site-packages (from thinc<8.4.0,>=8.3.0->spacy) (0.1.5)\n",
      "Requirement already satisfied: colorama in c:\\users\\luigi\\appdata\\local\\packages\\pythonsoftwarefoundation.python.3.12_qbz5n2kfra8p0\\localcache\\local-packages\\python312\\site-packages (from tqdm<5.0.0,>=4.38.0->spacy) (0.4.6)\n",
      "Requirement already satisfied: click>=8.0.0 in c:\\users\\luigi\\appdata\\local\\packages\\pythonsoftwarefoundation.python.3.12_qbz5n2kfra8p0\\localcache\\local-packages\\python312\\site-packages (from typer<1.0.0,>=0.3.0->spacy) (8.1.7)\n",
      "Requirement already satisfied: shellingham>=1.3.0 in c:\\users\\luigi\\appdata\\local\\packages\\pythonsoftwarefoundation.python.3.12_qbz5n2kfra8p0\\localcache\\local-packages\\python312\\site-packages (from typer<1.0.0,>=0.3.0->spacy) (1.5.4)\n",
      "Requirement already satisfied: rich>=10.11.0 in c:\\users\\luigi\\appdata\\local\\packages\\pythonsoftwarefoundation.python.3.12_qbz5n2kfra8p0\\localcache\\local-packages\\python312\\site-packages (from typer<1.0.0,>=0.3.0->spacy) (13.9.2)\n",
      "Requirement already satisfied: cloudpathlib<1.0.0,>=0.7.0 in c:\\users\\luigi\\appdata\\local\\packages\\pythonsoftwarefoundation.python.3.12_qbz5n2kfra8p0\\localcache\\local-packages\\python312\\site-packages (from weasel<0.5.0,>=0.1.0->spacy) (0.19.0)\n",
      "Requirement already satisfied: smart-open<8.0.0,>=5.2.1 in c:\\users\\luigi\\appdata\\local\\packages\\pythonsoftwarefoundation.python.3.12_qbz5n2kfra8p0\\localcache\\local-packages\\python312\\site-packages (from weasel<0.5.0,>=0.1.0->spacy) (7.0.5)\n",
      "Requirement already satisfied: MarkupSafe>=2.0 in c:\\users\\luigi\\appdata\\local\\packages\\pythonsoftwarefoundation.python.3.12_qbz5n2kfra8p0\\localcache\\local-packages\\python312\\site-packages (from jinja2->spacy) (2.1.5)\n",
      "Requirement already satisfied: marisa-trie>=0.7.7 in c:\\users\\luigi\\appdata\\local\\packages\\pythonsoftwarefoundation.python.3.12_qbz5n2kfra8p0\\localcache\\local-packages\\python312\\site-packages (from language-data>=1.2->langcodes<4.0.0,>=3.2.0->spacy) (1.2.0)\n",
      "Requirement already satisfied: markdown-it-py>=2.2.0 in c:\\users\\luigi\\appdata\\local\\packages\\pythonsoftwarefoundation.python.3.12_qbz5n2kfra8p0\\localcache\\local-packages\\python312\\site-packages (from rich>=10.11.0->typer<1.0.0,>=0.3.0->spacy) (3.0.0)\n",
      "Requirement already satisfied: pygments<3.0.0,>=2.13.0 in c:\\users\\luigi\\appdata\\local\\packages\\pythonsoftwarefoundation.python.3.12_qbz5n2kfra8p0\\localcache\\local-packages\\python312\\site-packages (from rich>=10.11.0->typer<1.0.0,>=0.3.0->spacy) (2.18.0)\n",
      "Requirement already satisfied: wrapt in c:\\users\\luigi\\appdata\\local\\packages\\pythonsoftwarefoundation.python.3.12_qbz5n2kfra8p0\\localcache\\local-packages\\python312\\site-packages (from smart-open<8.0.0,>=5.2.1->weasel<0.5.0,>=0.1.0->spacy) (1.16.0)\n",
      "Requirement already satisfied: mdurl~=0.1 in c:\\users\\luigi\\appdata\\local\\packages\\pythonsoftwarefoundation.python.3.12_qbz5n2kfra8p0\\localcache\\local-packages\\python312\\site-packages (from markdown-it-py>=2.2.0->rich>=10.11.0->typer<1.0.0,>=0.3.0->spacy) (0.1.2)\n",
      "Note: you may need to restart the kernel to use updated packages.\n",
      "Note: you may need to restart the kernel to use updated packages.\n",
      "Defaulting to user installation because normal site-packages is not writeable\n",
      "Requirement already satisfied: pandas in c:\\users\\luigi\\appdata\\local\\packages\\pythonsoftwarefoundation.python.3.12_qbz5n2kfra8p0\\localcache\\local-packages\\python312\\site-packages (2.2.3)\n",
      "Requirement already satisfied: numpy>=1.26.0 in c:\\users\\luigi\\appdata\\local\\packages\\pythonsoftwarefoundation.python.3.12_qbz5n2kfra8p0\\localcache\\local-packages\\python312\\site-packages (from pandas) (2.0.2)\n",
      "Requirement already satisfied: python-dateutil>=2.8.2 in c:\\users\\luigi\\appdata\\local\\packages\\pythonsoftwarefoundation.python.3.12_qbz5n2kfra8p0\\localcache\\local-packages\\python312\\site-packages (from pandas) (2.9.0.post0)\n",
      "Requirement already satisfied: pytz>=2020.1 in c:\\users\\luigi\\appdata\\local\\packages\\pythonsoftwarefoundation.python.3.12_qbz5n2kfra8p0\\localcache\\local-packages\\python312\\site-packages (from pandas) (2024.2)\n",
      "Requirement already satisfied: tzdata>=2022.7 in c:\\users\\luigi\\appdata\\local\\packages\\pythonsoftwarefoundation.python.3.12_qbz5n2kfra8p0\\localcache\\local-packages\\python312\\site-packages (from pandas) (2024.2)\n",
      "Requirement already satisfied: six>=1.5 in c:\\users\\luigi\\appdata\\local\\packages\\pythonsoftwarefoundation.python.3.12_qbz5n2kfra8p0\\localcache\\local-packages\\python312\\site-packages (from python-dateutil>=2.8.2->pandas) (1.16.0)\n",
      "Note: you may need to restart the kernel to use updated packages.\n",
      "Defaulting to user installation because normal site-packages is not writeable\n",
      "Collecting python-dotenv\n",
      "  Using cached python_dotenv-1.0.1-py3-none-any.whl.metadata (23 kB)\n",
      "Using cached python_dotenv-1.0.1-py3-none-any.whl (19 kB)\n",
      "Installing collected packages: python-dotenv\n",
      "Successfully installed python-dotenv-1.0.1\n",
      "Note: you may need to restart the kernel to use updated packages.\n"
     ]
    }
   ],
   "source": [
    "%pip install openai\n",
    "%pip install scikit-learn\n",
    "%pip install numpy spacy\n",
    "%pip install -q -U google-generativeai\n",
    "%pip install pandas\n",
    "%pip install python-dotenv"
   ]
  },
  {
   "cell_type": "code",
   "execution_count": 7,
   "metadata": {},
   "outputs": [],
   "source": [
    "import spacy"
   ]
  },
  {
   "cell_type": "markdown",
   "metadata": {},
   "source": [
    "# LLM"
   ]
  },
  {
   "cell_type": "code",
   "execution_count": 8,
   "metadata": {},
   "outputs": [],
   "source": [
    "from sklearn.feature_extraction.text import TfidfVectorizer\n",
    "from sklearn.metrics.pairwise import cosine_similarity\n",
    "import pandas as pd\n",
    "import string\n",
    "\n",
    "\n",
    "# Dicionário de palavras-chave por TAG (podem ser as mesmas ou outras relevantes)\n",
    "tags_keywords = {\n",
    "    'taxa básica financeira':'taxa basica financeira',\n",
    "    'operações do mercado aberto':'operações do mercado aberto',\n",
    "    'segurança': 'segurança proteção cibersegurança risco criptografia firewall',\n",
    "    'auditoria interna': 'auditoria fiscalização controle interno verificação conformidade',\n",
    "    'governança corporativa': 'governança conselho decisão corporativa transparência ética',\n",
    "    'gestão de riscos': 'risco gestão mitigação avaliação de risco contingência prevenção',\n",
    "    'regulamentação bancária': 'regulamentação bancária compliance lei supervisão financeira',\n",
    "    'proteção de dados': 'dados privacidade proteção GDPR LGPD confidencialidade segurança digital',\n",
    "    'responsabilidade social': 'responsabilidade social ética comunidade impacto positivo inclusão',\n",
    "    'regulação de mercado': 'regulação supervisão mercado financeiro capital seguros previdência',\n",
    "    'fiscalização': 'fiscalização supervisão controle atuação entidades públicas privadas',\n",
    "    'comitê regulador': 'comitê regulação supervisão organização decisão colegiado',\n",
    "}\n"
   ]
  },
  {
   "cell_type": "code",
   "execution_count": 9,
   "metadata": {},
   "outputs": [],
   "source": [
    "# Texto de exemplo\n",
    "document = \"\"\"\n",
    "RESOLUÇÃO COREMEC Nº 1, DE 9 DE DEZEMBRO DE 2020\n",
    "\n",
    "Aprova o Regimento Interno do Comitê de Regulação e Fiscalização dos Mercados Financeiro, de Capitais, de Seguros, de Previdência e Capitalização (Coremec).\n",
    "\n",
    "O Banco Central do Brasil, na forma do art. 5º do Decreto nº 10.465, de 18 de agosto de 2020, torna público que o Comitê de Regulação e Fiscalização dos Mercados Financeiro, de Capitais, de Seguros, de Previdência e Capitalização, em sessão realizada em 7 de dezembro de 2020, com base no art. 6º do referido Decreto,\n",
    "\n",
    "R E S O L V E U :\n",
    "\n",
    "Art. 1º  Fica aprovado o Regimento Interno do Comitê de Regulação e Fiscalização dos Mercados Financeiro, de Capitais, de Seguros, de Previdência e Capitalização (Coremec), na forma do Anexo a esta Resolução.\n",
    "\n",
    "Art. 2º  Esta Resolução entra em vigor na data de sua publicação.\n",
    "\n",
    "Paulo Sérgio Neves de Souza\n",
    "Presidente\n",
    "\n",
    " \n",
    "\n",
    "ANEXO À RESOLUÇÃO COREMEC Nº 1, DE 9 DE DEZEMBRO DE 2020\n",
    "\n",
    "REGIMENTO INTERNO DO COMITÊ DE REGULAÇÃO E FISCALIZAÇÃO DOS MERCADOS FINANCEIRO, DE CAPITAIS, DE SEGUROS, DE PREVIDÊNCIA E CAPITALIZAÇÃO (COREMEC)\n",
    "\n",
    "CAPÍTULO I\n",
    "DA FINALIDADE\n",
    "\n",
    "Art. 1º  O Comitê de Regulação e Fiscalização dos Mercados Financeiro, de Capitais, de Seguros, de Previdência e Capitalização (Coremec), instituído pelo Decreto nº 10.465, de 18 de agosto de 2020, no âmbito do Ministério da Economia, tem por finalidade promover a coordenação e o aprimoramento da atuação das entidades da administração pública federal que regulam e supervisionam os mercados financeiro, de capitais, de seguros, de previdência e capitalização.\n",
    "\n",
    "CAPÍTULO II\n",
    "DA ORGANIZAÇÃO\n",
    "\n",
    "Art. 2º  O Coremec é composto:\n",
    "\n",
    "I - por dois Diretores do Banco Central do Brasil;\n",
    "\n",
    "II - pelo Presidente da Comissão de Valores Mobiliários e por um de seus Diretores;\n",
    "\n",
    "III - pelo Diretor-Superintendente da Superintendência Nacional de Previdência Complementar e por um de seus Diretores; e\n",
    "\n",
    "IV - pelo Superintendente da Superintendência de Seguros Privados e por um de seus Diretores.\n",
    "\n",
    "§ 1º  Cada membro do Coremec terá um suplente, que o substituirá em suas ausências e seus impedimentos, observado o disposto no § 2º.\n",
    "\n",
    "§ 2º  Na ausência ou no impedimento do Presidente do Coremec, os trabalhos do colegiado serão presididos pelo Vice-Presidente.\n",
    "\n",
    "Art. 3º  Os membros do Coremec e os respectivos suplentes serão indicados pelos titulares das entidades que representam e designados pelo Presidente do Comitê.\n",
    "\n",
    "§ 1º  A indicação de membros e suplentes será feita por meio de ofício endereçado à Secretaria-Executiva.\n",
    "\n",
    "§ 2º  A designação de membros e suplentes será feita por meio de portaria do Presidente do Coremec.\n",
    "\n",
    "Art. 4º  A Presidência e a Vice-Presidência do Coremec serão exercidas, a cada período de um ano, por uma das entidades representadas no colegiado, em regime de rodízio, observada a ordem dos incisos do caput do art. 2º.\n",
    "\n",
    "§ 1º  O Presidente e o Vice-Presidente do Coremec serão escolhidos pelo titular da entidade que representam, dentre os membros por ela indicados, observando-se, no que couber, o disposto no § 1º do art. 3º.\n",
    "\n",
    "§ 2º  O mandato do Presidente do Coremec inicia-se em 1º de janeiro e encerra-se em 31 de dezembro de cada ano.\n",
    "\n",
    "§ 3º  O Presidente do Coremec determinará que se registre, em ata de reunião do Comitê realizada antes do final do seu mandato, a composição da Presidência para o mandato subsequente, uma vez efetuada a escolha de que trata o § 1º.\n",
    "\n",
    "Art. 5º  A Secretaria-Executiva do Coremec será exercida pelo Banco Central do Brasil.\n",
    "\n",
    "Art. 6º  O Presidente do Coremec, de ofício ou por sugestão de qualquer dos membros, poderá convidar representantes de outros órgãos e entidades, públicos e privados, e especialistas na área de atuação do Comitê, para participar de suas reuniões, sem direito a voto.\n",
    "\n",
    "CAPÍTULO III\n",
    "DA COMPETÊNCIA E DAS ATRIBUIÇÕES\n",
    "\n",
    "Art. 7º  Compete ao Coremec:\n",
    "\n",
    "I - promover a articulação da atuação das entidades da administração pública federal que regulam e supervisionam os mercados financeiro, de capitais, de seguros, de previdência e capitalização, com o objetivo de promover a estabilidade do sistema financeiro nacional;\n",
    "\n",
    "II - discutir medidas que visem ao melhor funcionamento dos mercados financeiro, de capitais, de seguros, de previdência e capitalização;\n",
    "\n",
    "III - debater iniciativas de regulação e procedimentos de supervisão comuns às atividades de mais de uma das entidades reguladoras dos mercados financeiro, de capitais, de seguros, de previdência e capitalização;\n",
    "\n",
    "IV - coordenar o intercâmbio de informações das entidades reguladoras dos mercados financeiro, de capitais, de seguros, de previdência e capitalização entre si e com instituições estrangeiras e organismos internacionais;\n",
    "\n",
    "V - debater e propor ações coordenadas de regulação e fiscalização, inclusive as aplicáveis aos conglomerados financeiros; e\n",
    "\n",
    "VI - aprovar alterações neste Regimento, por unanimidade de votos dos membros presentes na reunião do colegiado em cuja pauta tenha sido prevista deliberação a respeito.\n",
    "\n",
    "Art. 8º  São atribuições do Presidente do Coremec:\n",
    "\n",
    "I - convocar as reuniões ordinárias e extraordinárias, abrir as sessões e dirigir os trabalhos, observadas as disposições deste Regimento;\n",
    "\n",
    "II - definir a pauta de assuntos a serem discutidos em cada reunião;\n",
    "\n",
    "III - aprovar a inclusão de assuntos extrapauta, quando revestidos de caráter de urgência ou relevante interesse; e\n",
    "\n",
    "IV - convidar para participar das reuniões do Coremec, sem direito a voto, representantes de outros órgãos e entidades, públicos e privados, e especialistas na área de atuação do Comitê, observado o contido no art. 6º.\n",
    "\n",
    "Art. 9º  São atribuições dos membros do Coremec:\n",
    "\n",
    "I - apresentar proposições, indicações, requerimentos e comunicações, a serem incluídos nas pautas das reuniões do Comitê, para discussão;\n",
    "\n",
    "II - solicitar o adiamento da votação de assuntos incluídos na pauta ou apresentado como extrapauta;\n",
    "\n",
    "III - pedir vistas de assunto constante da pauta ou apresentado como extrapauta;\n",
    "\n",
    "IV - fazer declaração de voto, se for o caso, ou abster-se na votação de qualquer assunto;\n",
    "\n",
    "V - requerer preferência para votação de assunto incluído na pauta ou apresentado como extrapauta; e\n",
    "\n",
    "VI - convocar a qualquer tempo, quando amparado em manifestação da maioria dos membros, reunião extraordinária do Comitê.\n",
    "\n",
    "Art. 10.  À Secretaria-Executiva do Coremec, cujos trabalhos serão executados pelo Banco Central do Brasil, compete:\n",
    "\n",
    "I - organizar a pauta das reuniões do Comitê;\n",
    "\n",
    "II - comunicar aos membros do Comitê a data, a hora e o local das reuniões, com, no mínimo, dez dias de antecedência para as ordinárias;\n",
    "\n",
    "III - enviar aos membros do Comitê, com antecedência de até cinco dias no caso das reuniões ordinárias, a pauta de cada reunião e cópia dos documentos referidos no art. 16, conferindo-lhes tratamento adequado;\n",
    "\n",
    "IV - prover os serviços de secretaria nas reuniões do Comitê, elaborando as atas e realizando a coleta das respectivas assinaturas;\n",
    "\n",
    "V - dar publicidade às decisões do Coremec que necessitem de divulgação, observado o contido no art. 23;\n",
    "\n",
    "VI - prover os serviços de apoio administrativo; e\n",
    "\n",
    "VII - manter arquivo e ementário de assuntos de interesse do Comitê, bem como das decisões adotadas em suas reuniões.\n",
    "\n",
    "CAPÍTULO IV\n",
    "DAS REUNIÕES\n",
    "\n",
    "Seção I\n",
    "Disposições Preliminares\n",
    "\n",
    "Art. 11.  O Coremec reunir-se-á, ordinariamente, uma vez por semestre e, extraordinariamente, a qualquer tempo, por convocação do seu Presidente ou pela maioria de seus membros.\n",
    "\n",
    "§ 1º  Os membros do Coremec que se encontrarem no Distrito Federal se reunirão presencialmente, na sede do Banco Central do Brasil, ou por meio de videoconferência, nos termos do disposto no Decreto nº 10.416, de 7 de julho de 2020, e os membros que se encontrarem em outros entes federativos participarão da reunião por meio de videoconferência.\n",
    "\n",
    "§ 2º  O quórum de reunião do Coremec é de maioria absoluta.\n",
    "\n",
    "Art. 12.  A data, a hora e o local de cada reunião serão determinados pelo Presidente do Coremec ou pelo responsável pela convocação, em caso de reunião extraordinária solicitada pela maioria dos membros do Comitê.\n",
    "\n",
    "Art. 13.  O acesso às reuniões do Coremec será autorizado apenas aos membros e seus suplentes e eventuais assessores, aos representantes da Secretaria-Executiva e a eventuais convidados na forma do art. 6º.\n",
    "\n",
    "Art. 14.  Os documentos apreciados nas reuniões do Coremec serão considerados ostensivos após a discussão ou deliberação do assunto, sendo passíveis de transparência ativa ou passiva pela Secretaria-Executiva, salvo quando classificados em grau de sigilo pela autoridade competente ou sujeitos a hipótese legal de restrição de acesso, conforme marcação efetuada pelos membros ou pelos responsáveis pela informação.\n",
    "\n",
    "Art. 15.  Salvo deliberação em sentido diverso, a ordem dos trabalhos nas reuniões do Coremec será a seguinte:\n",
    "\n",
    "I - discussão e votação dos assuntos incluídos em pauta;\n",
    "\n",
    "II - discussão e votação dos assuntos apresentados como extrapauta; e\n",
    "\n",
    "III - assuntos de ordem geral.\n",
    "\n",
    "Seção II\n",
    "Da Apresentação de Propostas\n",
    "\n",
    "Art. 16.  As propostas deverão ser entregues à Secretaria-Executiva, com as justificativas das proposições e minutas dos normativos pertinentes, se for o caso.\n",
    "\n",
    "Art. 17.  As propostas com pedido de vistas concedido devem retornar na reunião subsequente, salvo se o Presidente do Coremec conceder ou o próprio Comitê deliberar prazo maior.\n",
    "\n",
    "Seção III\n",
    "Da Organização da Pauta\n",
    "\n",
    "Art. 18.  Para efeito de organização da pauta, a Secretaria-Executiva manterá controle unificado das propostas apresentadas pelos membros do Coremec.\n",
    "\n",
    "Parágrafo único.  O controle observará numeração sequencial única, renovável anualmente.\n",
    "\n",
    "Art. 19.  A Secretaria-Executiva concluirá a elaboração da pauta, abrangendo todas as propostas que se encontrarem em estágio de pauta, submetendo-a à apreciação do Presidente do Coremec.\n",
    "\n",
    "Art. 20.  Não serão incluídas na pauta as propostas que estejam em desacordo com as disposições deste Regimento.\n",
    "\n",
    "CAPÍTULO V\n",
    "DAS VOTAÇÕES E DECISÕES\n",
    "\n",
    "Art. 21.  A votação pelos membros do Coremec ocorrerá após o encerramento dos debates de cada assunto.\n",
    "\n",
    "Art. 22.  As decisões do Coremec serão tomadas por maioria simples de votos.\n",
    "\n",
    "§ 1º  Somente os membros do Comitê terão o direito de voto.\n",
    "\n",
    "§ 2º  Em caso de empate na votação, cabe ao Presidente do Comitê, além do voto ordinário, o voto de qualidade.\n",
    "\n",
    "§ 3º  Não haverá voto por delegação.\n",
    "\n",
    "Art. 23.  As decisões do Coremec que necessitarem de publicidade serão divulgadas por meio de Resoluções Coremec, observando-se, no que couber, o disposto no Decreto nº 10.139, de 28 de novembro de 2019.\n",
    "\n",
    "CAPÍTULO VI\n",
    "DAS ATAS\n",
    "\n",
    "Art. 24.  Das reuniões do Coremec serão lavradas atas que conterão o local e a data de sua realização, o nome dos membros presentes e dos demais participantes e convidados, o nome dos membros ausentes e a eventual justificativa pela ausência, o resumo dos assuntos apresentados e as deliberações ou decisões tomadas.\n",
    "\n",
    "Parágrafo único.  Serão registrados na ata os assuntos objeto de adiamento e de retirada de pauta.\n",
    "\n",
    "Art. 25.  As atas do Coremec serão lavradas pelo representante da Secretaria-Executiva em formato eletrônico, sempre que for possível assegurar sua conformidade às determinações legais e de segurança da informação, devendo sua assinatura e a dos membros do Comitê ocorrer por certificação digital.\n",
    "\n",
    "Parágrafo único.  Em caso de necessidade ou conveniência, as atas poderão ser lavradas pelo representante da Secretaria-Executiva em papel, em folhas soltas, cujas páginas serão numeradas sequencialmente, com sua assinatura e a dos membros do Comitê presentes à reunião.\n",
    "\n",
    "Art. 26.  As reuniões do Coremec terão numeração sequencial em continuidade à última realizada pelo anterior Coremec, criado pelo Decreto nº 5.685, de 25 de janeiro de 2006, e extinto em 28 de junho de 2019, por força do disposto no art. 5º do Decreto nº 9.759, de 11 de abril de 2019.\n",
    "\n",
    "CAPÍTULO VII\n",
    "DISPOSIÇÃO FINAL\n",
    "\n",
    "Art. 27.  Os casos omissos neste Regimento serão resolvidos pelo próprio Coremec.\n",
    "\"\"\""
   ]
  },
  {
   "cell_type": "code",
   "execution_count": 12,
   "metadata": {},
   "outputs": [
    {
     "ename": "OSError",
     "evalue": "[E050] Can't find model 'pt_core_news_lg'. It doesn't seem to be a Python package or a valid path to a data directory.",
     "output_type": "error",
     "traceback": [
      "\u001b[1;31m---------------------------------------------------------------------------\u001b[0m",
      "\u001b[1;31mOSError\u001b[0m                                   Traceback (most recent call last)",
      "Cell \u001b[1;32mIn[12], line 1\u001b[0m\n\u001b[1;32m----> 1\u001b[0m nlp \u001b[38;5;241m=\u001b[39m \u001b[43mspacy\u001b[49m\u001b[38;5;241;43m.\u001b[39;49m\u001b[43mload\u001b[49m\u001b[43m(\u001b[49m\u001b[38;5;124;43m\"\u001b[39;49m\u001b[38;5;124;43mpt_core_news_lg\u001b[39;49m\u001b[38;5;124;43m\"\u001b[39;49m\u001b[43m)\u001b[49m\n",
      "File \u001b[1;32m~\\AppData\\Local\\Packages\\PythonSoftwareFoundation.Python.3.12_qbz5n2kfra8p0\\LocalCache\\local-packages\\Python312\\site-packages\\spacy\\__init__.py:51\u001b[0m, in \u001b[0;36mload\u001b[1;34m(name, vocab, disable, enable, exclude, config)\u001b[0m\n\u001b[0;32m     27\u001b[0m \u001b[38;5;28;01mdef\u001b[39;00m \u001b[38;5;21mload\u001b[39m(\n\u001b[0;32m     28\u001b[0m     name: Union[\u001b[38;5;28mstr\u001b[39m, Path],\n\u001b[0;32m     29\u001b[0m     \u001b[38;5;241m*\u001b[39m,\n\u001b[1;32m   (...)\u001b[0m\n\u001b[0;32m     34\u001b[0m     config: Union[Dict[\u001b[38;5;28mstr\u001b[39m, Any], Config] \u001b[38;5;241m=\u001b[39m util\u001b[38;5;241m.\u001b[39mSimpleFrozenDict(),\n\u001b[0;32m     35\u001b[0m ) \u001b[38;5;241m-\u001b[39m\u001b[38;5;241m>\u001b[39m Language:\n\u001b[0;32m     36\u001b[0m \u001b[38;5;250m    \u001b[39m\u001b[38;5;124;03m\"\"\"Load a spaCy model from an installed package or a local path.\u001b[39;00m\n\u001b[0;32m     37\u001b[0m \n\u001b[0;32m     38\u001b[0m \u001b[38;5;124;03m    name (str): Package name or model path.\u001b[39;00m\n\u001b[1;32m   (...)\u001b[0m\n\u001b[0;32m     49\u001b[0m \u001b[38;5;124;03m    RETURNS (Language): The loaded nlp object.\u001b[39;00m\n\u001b[0;32m     50\u001b[0m \u001b[38;5;124;03m    \"\"\"\u001b[39;00m\n\u001b[1;32m---> 51\u001b[0m     \u001b[38;5;28;01mreturn\u001b[39;00m \u001b[43mutil\u001b[49m\u001b[38;5;241;43m.\u001b[39;49m\u001b[43mload_model\u001b[49m\u001b[43m(\u001b[49m\n\u001b[0;32m     52\u001b[0m \u001b[43m        \u001b[49m\u001b[43mname\u001b[49m\u001b[43m,\u001b[49m\n\u001b[0;32m     53\u001b[0m \u001b[43m        \u001b[49m\u001b[43mvocab\u001b[49m\u001b[38;5;241;43m=\u001b[39;49m\u001b[43mvocab\u001b[49m\u001b[43m,\u001b[49m\n\u001b[0;32m     54\u001b[0m \u001b[43m        \u001b[49m\u001b[43mdisable\u001b[49m\u001b[38;5;241;43m=\u001b[39;49m\u001b[43mdisable\u001b[49m\u001b[43m,\u001b[49m\n\u001b[0;32m     55\u001b[0m \u001b[43m        \u001b[49m\u001b[43menable\u001b[49m\u001b[38;5;241;43m=\u001b[39;49m\u001b[43menable\u001b[49m\u001b[43m,\u001b[49m\n\u001b[0;32m     56\u001b[0m \u001b[43m        \u001b[49m\u001b[43mexclude\u001b[49m\u001b[38;5;241;43m=\u001b[39;49m\u001b[43mexclude\u001b[49m\u001b[43m,\u001b[49m\n\u001b[0;32m     57\u001b[0m \u001b[43m        \u001b[49m\u001b[43mconfig\u001b[49m\u001b[38;5;241;43m=\u001b[39;49m\u001b[43mconfig\u001b[49m\u001b[43m,\u001b[49m\n\u001b[0;32m     58\u001b[0m \u001b[43m    \u001b[49m\u001b[43m)\u001b[49m\n",
      "File \u001b[1;32m~\\AppData\\Local\\Packages\\PythonSoftwareFoundation.Python.3.12_qbz5n2kfra8p0\\LocalCache\\local-packages\\Python312\\site-packages\\spacy\\util.py:472\u001b[0m, in \u001b[0;36mload_model\u001b[1;34m(name, vocab, disable, enable, exclude, config)\u001b[0m\n\u001b[0;32m    470\u001b[0m \u001b[38;5;28;01mif\u001b[39;00m name \u001b[38;5;129;01min\u001b[39;00m OLD_MODEL_SHORTCUTS:\n\u001b[0;32m    471\u001b[0m     \u001b[38;5;28;01mraise\u001b[39;00m \u001b[38;5;167;01mIOError\u001b[39;00m(Errors\u001b[38;5;241m.\u001b[39mE941\u001b[38;5;241m.\u001b[39mformat(name\u001b[38;5;241m=\u001b[39mname, full\u001b[38;5;241m=\u001b[39mOLD_MODEL_SHORTCUTS[name]))  \u001b[38;5;66;03m# type: ignore[index]\u001b[39;00m\n\u001b[1;32m--> 472\u001b[0m \u001b[38;5;28;01mraise\u001b[39;00m \u001b[38;5;167;01mIOError\u001b[39;00m(Errors\u001b[38;5;241m.\u001b[39mE050\u001b[38;5;241m.\u001b[39mformat(name\u001b[38;5;241m=\u001b[39mname))\n",
      "\u001b[1;31mOSError\u001b[0m: [E050] Can't find model 'pt_core_news_lg'. It doesn't seem to be a Python package or a valid path to a data directory."
     ]
    }
   ],
   "source": [
    "nlp = spacy.load(\"pt_core_news_sm\")"
   ]
  },
  {
   "cell_type": "code",
   "execution_count": 169,
   "metadata": {},
   "outputs": [],
   "source": [
    "# Função para separar as sentenças\n",
    "def extract_sentences(doc):\n",
    "    sentences = [sent for sent in doc.sents]  # A função retorna spans (conjuntos de tokens)\n",
    "    return sentences\n",
    "\n",
    "# Função para separar em tokens (palavras)\n",
    "def tokenize(sentences):\n",
    "    tokens = []\n",
    "    for sentence in sentences:\n",
    "        # Retorna tokens diretamente como objetos spaCy\n",
    "        sentence_tokens = [token for token in sentence]  # Mantém os objetos Token\n",
    "        tokens.extend(sentence_tokens)\n",
    "    return tokens\n",
    "\n",
    "# Função para remover stop words\n",
    "def extract_stop_words(tokens):\n",
    "    doc = nlp(' '.join(tokens))\n",
    "    # Verifica se é um objeto Token e não string\n",
    "    words_filtered = [token for token in doc if not token.is_stop]\n",
    "    return words_filtered\n",
    "\n",
    "# Função para lematizar palavras\n",
    "def extract_lemmatizer(tokens):\n",
    "    # Converte as strings para um objeto Doc do spaCy  \n",
    "    # tokens = nlp(' '.join(tokens))  \n",
    "    # Realiza a lematização de cada token e retorna a forma lematizada\n",
    "    lematizadas = [token.lemma_ for token in tokens]\n",
    "    \n",
    "    return lematizadas\n",
    "\n",
    "# Função para remover pontuação\n",
    "def rem_pontuacao(tokens):\n",
    "    # Converte as strings em um objeto Doc do spaCy\n",
    "    # doc = nlp(' '.join(tokens))\n",
    "    # Filtra os tokens que não são pontuação\n",
    "    tokens_sem_pontuacao = [token for token in tokens if token not in string.punctuation]\n",
    "    return tokens_sem_pontuacao\n",
    "\n",
    "# Função para POS tagging\n",
    "def pos_tagging(tokens):\n",
    "    # Recebe objetos Token e extrai tags POS e dependências\n",
    "    pos_tags = [(token.text, token.pos_, token.dep_) for token in tokens]\n",
    "    return pos_tags\n"
   ]
  },
  {
   "cell_type": "code",
   "execution_count": 170,
   "metadata": {},
   "outputs": [],
   "source": [
    "# Text preprocessing function\n",
    "def preprocess_text(text):\n",
    "    # Convert the text to lowercase and create a spaCy doc object\n",
    "    doc = nlp(text.lower())\n",
    "    # Sentence extraction\n",
    "    sentences = extract_sentences(doc)\n",
    "    tokens = tokenize(sentences)\n",
    "    lem = extract_lemmatizer(tokens)\n",
    "    rem = rem_pontuacao(lem)\n",
    "    resultado = extract_stop_words(rem)\n",
    "    # resultado = ' '.join([token.text for token in resultado])\n",
    "    return resultado\n"
   ]
  },
  {
   "cell_type": "code",
   "execution_count": 171,
   "metadata": {},
   "outputs": [
    {
     "data": {
      "text/plain": [
       "'ai vontade viajar comer'"
      ]
     },
     "execution_count": 171,
     "metadata": {},
     "output_type": "execute_result"
    }
   ],
   "source": [
    "texto = \"Ai que vontade de viajar come\"\n",
    "texto = preprocess_text(texto)\n",
    "resultado = ' '.join([token.text for token in texto])\n",
    "resultado\n"
   ]
  },
  {
   "cell_type": "markdown",
   "metadata": {},
   "source": [
    "# Vectorizer Model Preparation - TD-IDF"
   ]
  },
  {
   "cell_type": "code",
   "execution_count": 172,
   "metadata": {},
   "outputs": [],
   "source": [
    "def tag_process(document):  \n",
    "     # Vectorize useing TF-IDF\n",
    "    tfidf_vectorizer = TfidfVectorizer()\n",
    "\n",
    "    # Merge the document and the TAGs in a list\n",
    "    corpus = [document] + list(tags_keywords.values())\n",
    "\n",
    "    # Fit the TF-IDF\n",
    "    tfidf_matrix = tfidf_vectorizer.fit_transform(corpus)\n",
    "\n",
    "    # Calculation of cosine similarity between the document and TAGs\n",
    "    cosine_similarities = cosine_similarity(tfidf_matrix[0:1], tfidf_matrix[1:]).flatten()\n",
    "\n",
    "    # Associate the values of similarity with the TAGs\n",
    "    tags_similarities = {tag: similarity for tag, similarity in zip(tags_keywords.keys(), cosine_similarities)}\n",
    "\n",
    "    # Sort the TAGs by similarity\n",
    "    sorted_tags = sorted(tags_similarities.items(), key=lambda x: x[1], reverse=True)\n",
    "\n",
    "    # Display the results\n",
    "    for tag, similarity in sorted_tags:\n",
    "        print(f\"{tag}: {similarity:.2f}\")\n",
    "\n",
    "    return sorted_tags"
   ]
  },
  {
   "cell_type": "code",
   "execution_count": 173,
   "metadata": {},
   "outputs": [
    {
     "data": {
      "text/plain": [
       "'\\n  resoluçãor coremec nº 1 9 dezembro 2020 \\n\\n  aprovar regimento interno comitê regulação fiscalização mercado financeiro capital seguro previdência capitalização coremec \\n\\n  banco central Brasil art. 5º decreto nº 10.465 18 agosto 2020 tornar público comitê regulação fiscalização mercado financeiro capital seguro previdência capitalização sessão realizar 7 dezembro 2020 base art. 6º referir decreto \\n\\n  r s l v u \\n\\n  art. 1º    ficar aprovar regimento interno comitê regulação fiscalização mercado financeiro capital seguro previdência capitalização coremec anexo resolução \\n\\n  art. 2º    resolução entrar vigor data publicação \\n\\n  Paulo sérgio Neves Souza \\n  presidente \\n\\n \\n\\n  anexo resolução coremec nº 1 9 dezembro 2020 \\n\\n  regimento interno comitê regulação fiscalização mercado financeiro capital seguro previdência capitalização coremec \\n\\n  capítulo i \\n  finalidade \\n\\n  art. 1º    comitê regulação fiscalização mercado financeiro capital seguro previdência capitalização coremec instituir decreto nº 10.465 18 agosto 2020 âmbito ministério economia finalidade promover coordenação aprimoramento atuação entidade administração público federal regular supervisionar mercado financeiro capital seguro previdência capitalização \\n\\n  capítulo ii \\n  organização \\n\\n  art. 2º    coremec compor \\n\\n  i diretor Banco central Brasil \\n\\n  ii presidente comissão mobiliário diretor \\n\\n  iii diretor-superintendente superintendência nacional previdência complementar diretor \\n\\n  iv superintendente superintendência seguro privado diretor \\n\\n  § 1º    membro coremec suplente substituir ausência impedimento observar disposto § 2º. \\n\\n  § 2º    ausência impedimento presidente coremec trabalho colegiado presidir vice-presidente \\n\\n  art. 3º    membro coremec respectivo suplente indicar titular entidade representar designar presidente comitê \\n\\n  § 1º    indicação membro suplente ofício endereçar secretaria-executiva \\n\\n  § 2º    designação membro suplente portaria presidente coremec \\n\\n  art. 4º    presidência vice-presidência coremec exercer período ano entidade representar colegiado regime rodízio observar ordem inciso caput art. 2º. \\n\\n  § 1º    presidente vice-presidente coremec escolhir titular entidade representar dentre membro indicar observando-se couber disposto § 1º art. 3º. \\n\\n  § 2º    mandato presidente coremec 1º janeiro encerra-se 31 dezembro ano \\n\\n  § 3º    presidente coremec determinar registrar ata reunião comitê realizar mandato composição presidência mandato subsequente efetuar escolha tratar § 1º. \\n\\n  art. 5º    secretaria-executiva coremec exercer banco central Brasil \\n\\n  art. 6º    presidente coremec ofício sugestão membro convidar representante outro órgão entidade público privado especialista atuação comitê participar reunião direito voto \\n\\n  capítulo iii \\n  competência atribuição \\n\\n  art. 7º    competir coremec \\n\\n  i promover articulação atuação entidade administração público federal regular supervisionar mercado financeiro capital seguro previdência capitalização objetivo promover estabilidade financeiro nacional \\n\\n  ii discutir medida visem funcionamento mercado financeiro capital seguro previdência capitalização \\n\\n  iii debater iniciativa regulação procedimento supervisão comum atividade entidade reguladoro mercado financeiro capital seguro previdência capitalização \\n\\n  iv coordenar intercâmbio informação entidade reguladoro mercado financeiro capital seguro previdência capitalização si instituição estrangeiro organismo internacional \\n\\n  v debater propor ação coordenar regulação fiscalização aplicável conglomerado financeiro \\n\\n  aprovar alteração regimento unanimidade voto membro presente reunião colegiado pauta prever deliberação respeito \\n\\n  art. 8º    atribuição presidente coremec \\n\\n  i convocar reunião ordinário extraordinário abrir sessão dirigir trabalho observar disposição regimento \\n\\n  ii definir pauta assunto discutir reunião \\n\\n  iii aprovar inclusão assunto extrapauta revestir caráter urgência relevante interesse \\n\\n  iv convidar participar reunião coremec direito voto representante outro órgão entidade público privado especialista atuação comitê observar contido art. 6º. \\n\\n  art. 9º    atribuição membro coremec \\n\\n  i apresentar proposição indicação requerimento comunicação incluír pauta reunião comitê discussão \\n\\n  ii solicitar adiamento votação assunto incluír pauta apresentar extrapauta \\n\\n  iii pedir vista assunto constante pauta apresentar extrapauta \\n\\n  iv declaração voto caso abster-se votação assunto \\n\\n  v requerer preferência votação assunto incluir pauta apresentar extrapauta \\n\\n  convocar amparar manifestação membro reunião extraordinário comitê \\n\\n  art. 10    secretaria-executiva coremec trabalho executar banco central Brasil competir \\n\\n  i organizar pauta reunião comitê \\n\\n  ii comunicar membro comitê data hora reunião pequeno dia antecedência ordinária \\n\\n  iii enviar membro comitê antecedência dia caso reunião ordinário pauta reunião cópia documento referir art. 16 conferindo-lhes tratamento adequado \\n\\n  iv prover serviço secretaria reunião comitê elaborar ata realizar coleta respectivo assinatura \\n\\n  v publicidade decisão coremec necessitir divulgação observar contido art. 23 \\n\\n  prover serviço administrativo \\n\\n  vii manter arquivo ementário assunto interesse comitê decisão adotar reunião \\n\\n  capítulo iv \\n  reunião \\n\\n  seção i \\n  disposição preliminar \\n\\n  art. 11    coremec reunir-se-á ordinariamente semestre extraordinariamente convocação presidente membro \\n\\n  § 1º    membro coremec encontrar distrito federal reunir presencialmente sede Banco central Brasil videoconferência termos disposto decreto nº 10.416 7 julho 2020 membro encontrar outro ente federativo participar reunião videoconferência \\n\\n  § 2º    quórum reunião coremec absoluto \\n\\n  art. 12    data hora reunião determinar presidente coremec responsável convocação caso reunião extraordinário solicitar membro comitê \\n\\n  art. 13    acesso reunião coremec autorizar membro suplente assessor representante secretaria-executiva convidado art. 6º. \\n\\n  art. 14    documento apreciar reunião coremec considerar ostensivo discussão deliberação assunto passível transparência ativo passivo secretaria-executiva salvo classificar grau sigilo autoridade competente sujeitar hipótese legal restrição acesso conforme marcação efetuar membro responsável informação \\n\\n  art. 15    salvo deliberação sentido diverso ordem trabalho reunião coremec seguinte \\n\\n  i discussão votação assunto incluír pauta \\n\\n  ii discussão votação assunto apresentar extrapauta \\n\\n  iii assunto ordem \\n\\n  seção ii \\n  apresentação proposta \\n\\n  art. 16    proposta dever entregar secretaria-executiva justificativa proposição minuto normativo pertinente caso \\n\\n  art. 17    proposta pedido vista concedido dever retornar reunião subsequente salvo presidente coremec conceder comitê deliberar prazo \\n\\n  seção iii \\n  organização pauta \\n\\n  art. 18    efeito organização pauta secretaria-executiva manter controle unificar proposta apresentar membro coremec \\n\\n  parágrafo único    controle observar numeração sequencial único renovável anualmente \\n\\n  art. 19    secretaria-executiva concluir elaboração pauta abranger proposta encontrar estágio pauta submetendo-a apreciação presidente coremec \\n\\n  art. 20    incluír pauta proposta desacordo disposição regimento \\n\\n  capítulo v \\n  votação decisão \\n\\n  art. 21    votação membro coremec ocorrer encerramento debate assunto \\n\\n  art. 22    decisão coremec tomar simples voto \\n\\n  § 1º    membro comitê direito voto \\n\\n  § 2º    caso empate votação caber presidente comitê voto ordinário voto qualidade \\n\\n  § 3º    haver voto delegação \\n\\n  art. 23    decisão coremec necessitar publicidade divulgar resolução coremec observando-se couber disposto decreto nº 10.139 28 novembro 2019 \\n\\n  capítulo \\n  ata \\n\\n  art. 24    reunião coremec lavrar ata conter data realização nome membro presente participante convidar nome membro ausente justificativa ausência resumo assunto apresentar deliberação decisão tomar \\n\\n  parágrafo único    registrar ata assunto objeto adiamento retirada pauta \\n\\n  art. 25    ata coremec lavrar representante secretaria-executiva formato eletrônico assegurar conformidade determinação legal segurança informação dever assinatura membro comitê ocorrer certificação digital \\n\\n  parágrafo único    caso necessidade conveniência ata lavrar representante secretaria-executiva papel folha solta página numerar sequencialmente assinatura membro comitê presente reunião \\n\\n  art. 26    reunião coremec numeração sequencial continuidade realizar anterior coremec criar decreto nº 5.685 25 janeiro 2006 extinguir 28 junho 2019 força disposto art. 5º decreto nº 9.759 11 abril 2019 \\n\\n  capítulo vii \\n  disposição \\n\\n  art. 27    caso omisso regimento resolver coremec \\n'"
      ]
     },
     "execution_count": 173,
     "metadata": {},
     "output_type": "execute_result"
    }
   ],
   "source": [
    "texto = preprocess_text(document)\n",
    "document = ' '.join([token.text for token in texto])\n",
    "document\n"
   ]
  },
  {
   "cell_type": "code",
   "execution_count": 174,
   "metadata": {},
   "outputs": [
    {
     "name": "stdout",
     "output_type": "stream",
     "text": [
      "regulação de mercado: 0.18\n",
      "comitê regulador: 0.16\n",
      "auditoria interna: 0.04\n",
      "fiscalização: 0.04\n",
      "governança corporativa: 0.02\n",
      "proteção de dados: 0.01\n",
      "responsabilidade social: 0.00\n",
      "segurança: 0.00\n",
      "regulamentação bancária: 0.00\n",
      "gestão de riscos: 0.00\n",
      "conformidade ambiental: 0.00\n"
     ]
    }
   ],
   "source": [
    "resultado = tag_process(document)"
   ]
  },
  {
   "cell_type": "markdown",
   "metadata": {},
   "source": [
    "# Tagging with LLM - Gemini"
   ]
  },
  {
   "cell_type": "code",
   "execution_count": 13,
   "metadata": {},
   "outputs": [],
   "source": [
    "tags = \"Manual de crédito rural (MCR), Sistema de Pagamentos, Consórcio, Open Finance, Câmbio, Crédito Externo, Capital Estrangeiro, Certificação, Compensação, Composição Societária, Conglomerado Prudencial, Valores Mobiliários, Derivativos, FGC, Fundos de Investimento, Lavagem, Operações de Câmbio, Operações de Crédito, Pix, Sistema de Informações de Créditos, SELIC, Regulamento)\"\n"
   ]
  },
  {
   "cell_type": "code",
   "execution_count": 45,
   "metadata": {},
   "outputs": [],
   "source": [
    "context = f\"\"\"\n",
    "Você é um especialista em relacionar em porcentagem textos com tags\n",
    "\n",
    "Nossa lista de TAGS: {tags}\n",
    "\n",
    "Exemplo de entrada do usuário:\n",
    "(algum texto falando sobre MCR, sistema de pagamentos e Open Finance)\n",
    "\n",
    "Seu output:\n",
    "MCR, Sistema de Pagamentos, Open Finance\n",
    "\n",
    "Siga essas regras a risca:\n",
    "- retorne apenas as TAGS relacionadas e nada mais.\n",
    "- separe por vírgula as TAGS\n",
    "- não finalize com \".\"\n",
    "\"\"\""
   ]
  },
  {
   "cell_type": "code",
   "execution_count": 46,
   "metadata": {},
   "outputs": [],
   "source": [
    "import google.generativeai as genai\n",
    "import os\n",
    "from dotenv import load_dotenv\n",
    "\n",
    "load_dotenv()\n",
    "GEMINI_API_KEY = os.getenv('GEMINI_API_KEY')\n",
    "genai.configure(api_key=GEMINI_API_KEY)\n",
    "\n",
    "# Create the model\n",
    "generation_config = {\n",
    "  \"temperature\": 0.8,\n",
    "  \"top_p\": 0.95,\n",
    "  \"top_k\": 64,\n",
    "  \"max_output_tokens\": 8192,\n",
    "  \"response_mime_type\": \"text/plain\",\n",
    "}\n",
    "\n",
    "gemini = genai.GenerativeModel(\n",
    "  model_name=\"gemini-1.5-pro\",\n",
    "  system_instruction=context,\n",
    "  generation_config=generation_config,\n",
    "  # safety_settings = Adjust safety settings\n",
    "  # See https://ai.google.dev/gemini-api/docs/safety-settings\n",
    ")\n",
    "\n",
    "chat_session = gemini.start_chat(\n",
    "  history=[\n",
    "  ]\n",
    ")\n",
    "\n",
    "def gemini_chat(input):\n",
    "  response = gemini.generate_content(f\"\"\"Pergunta: {input}\"\"\")\n",
    "  print(response.text)\n",
    "  return response.text"
   ]
  },
  {
   "cell_type": "code",
   "execution_count": 47,
   "metadata": {},
   "outputs": [],
   "source": [
    "document = f\"\"\"\n",
    "A conformidade (compliance) é um conjunto de práticas adotadas por empresas para garantir que todas as suas operações estejam de acordo com leis, regulamentações e normas internas e externas. No setor financeiro, por exemplo, o compliance é fundamental para evitar fraudes, garantir transparência e mitigar riscos, protegendo a integridade da empresa e seus clientes. Ele envolve a implementação de políticas e procedimentos para monitorar atividades, além de promover uma cultura organizacional voltada para a ética e o cumprimento das regras.\n",
    "\"\"\""
   ]
  },
  {
   "cell_type": "code",
   "execution_count": 48,
   "metadata": {},
   "outputs": [
    {
     "name": "stdout",
     "output_type": "stream",
     "text": [
      "Lavagem\n"
     ]
    }
   ],
   "source": [
    "teste = gemini_chat(document)"
   ]
  },
  {
   "cell_type": "code",
   "execution_count": 49,
   "metadata": {},
   "outputs": [
    {
     "data": {
      "text/plain": [
       "['Lavagem']"
      ]
     },
     "execution_count": 49,
     "metadata": {},
     "output_type": "execute_result"
    }
   ],
   "source": [
    "lista = [item.strip() for item in teste.split(',')] \n",
    "lista"
   ]
  },
  {
   "cell_type": "code",
   "execution_count": null,
   "metadata": {},
   "outputs": [],
   "source": []
  }
 ],
 "metadata": {
  "kernelspec": {
   "display_name": "Python 3",
   "language": "python",
   "name": "python3"
  },
  "language_info": {
   "codemirror_mode": {
    "name": "ipython",
    "version": 3
   },
   "file_extension": ".py",
   "mimetype": "text/x-python",
   "name": "python",
   "nbconvert_exporter": "python",
   "pygments_lexer": "ipython3",
   "version": "3.12.7"
  }
 },
 "nbformat": 4,
 "nbformat_minor": 2
}
