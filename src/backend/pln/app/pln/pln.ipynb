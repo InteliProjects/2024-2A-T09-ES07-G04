{
  "cells": [
    {
      "cell_type": "markdown",
      "metadata": {
        "id": "t-kE9XtFqZoh"
      },
      "source": [
        "# Importação das bibliotecas"
      ]
    },
    {
      "cell_type": "code",
      "execution_count": 1,
      "metadata": {
        "colab": {
          "base_uri": "https://localhost:8080/"
        },
        "id": "X2uLojdKqZok",
        "outputId": "9db40b8c-6cbd-45de-ca1e-26639bda8113"
      },
      "outputs": [
        {
          "name": "stdout",
          "output_type": "stream",
          "text": [
            "Requirement already satisfied: numpy in c:\\users\\inteli\\appdata\\local\\programs\\python\\python312\\lib\\site-packages (1.26.4)\n",
            "Requirement already satisfied: spacy in c:\\users\\inteli\\appdata\\local\\programs\\python\\python312\\lib\\site-packages (3.7.6)\n",
            "Requirement already satisfied: spacy-legacy<3.1.0,>=3.0.11 in c:\\users\\inteli\\appdata\\local\\programs\\python\\python312\\lib\\site-packages (from spacy) (3.0.12)\n",
            "Requirement already satisfied: spacy-loggers<2.0.0,>=1.0.0 in c:\\users\\inteli\\appdata\\local\\programs\\python\\python312\\lib\\site-packages (from spacy) (1.0.5)\n",
            "Requirement already satisfied: murmurhash<1.1.0,>=0.28.0 in c:\\users\\inteli\\appdata\\local\\programs\\python\\python312\\lib\\site-packages (from spacy) (1.0.10)\n",
            "Requirement already satisfied: cymem<2.1.0,>=2.0.2 in c:\\users\\inteli\\appdata\\local\\programs\\python\\python312\\lib\\site-packages (from spacy) (2.0.8)\n",
            "Requirement already satisfied: preshed<3.1.0,>=3.0.2 in c:\\users\\inteli\\appdata\\local\\programs\\python\\python312\\lib\\site-packages (from spacy) (3.0.9)\n",
            "Requirement already satisfied: thinc<8.3.0,>=8.2.2 in c:\\users\\inteli\\appdata\\local\\programs\\python\\python312\\lib\\site-packages (from spacy) (8.2.5)\n",
            "Requirement already satisfied: wasabi<1.2.0,>=0.9.1 in c:\\users\\inteli\\appdata\\local\\programs\\python\\python312\\lib\\site-packages (from spacy) (1.1.3)\n",
            "Requirement already satisfied: srsly<3.0.0,>=2.4.3 in c:\\users\\inteli\\appdata\\local\\programs\\python\\python312\\lib\\site-packages (from spacy) (2.4.8)\n",
            "Requirement already satisfied: catalogue<2.1.0,>=2.0.6 in c:\\users\\inteli\\appdata\\local\\programs\\python\\python312\\lib\\site-packages (from spacy) (2.0.10)\n",
            "Requirement already satisfied: weasel<0.5.0,>=0.1.0 in c:\\users\\inteli\\appdata\\local\\programs\\python\\python312\\lib\\site-packages (from spacy) (0.4.1)\n",
            "Requirement already satisfied: typer<1.0.0,>=0.3.0 in c:\\users\\inteli\\appdata\\local\\programs\\python\\python312\\lib\\site-packages (from spacy) (0.12.4)\n",
            "Requirement already satisfied: tqdm<5.0.0,>=4.38.0 in c:\\users\\inteli\\appdata\\local\\programs\\python\\python312\\lib\\site-packages (from spacy) (4.66.5)\n",
            "Requirement already satisfied: requests<3.0.0,>=2.13.0 in c:\\users\\inteli\\appdata\\local\\programs\\python\\python312\\lib\\site-packages (from spacy) (2.32.3)\n",
            "Requirement already satisfied: pydantic!=1.8,!=1.8.1,<3.0.0,>=1.7.4 in c:\\users\\inteli\\appdata\\local\\programs\\python\\python312\\lib\\site-packages (from spacy) (2.8.2)\n",
            "Requirement already satisfied: jinja2 in c:\\users\\inteli\\appdata\\local\\programs\\python\\python312\\lib\\site-packages (from spacy) (3.1.4)\n",
            "Requirement already satisfied: setuptools in c:\\users\\inteli\\appdata\\local\\programs\\python\\python312\\lib\\site-packages (from spacy) (73.0.1)\n",
            "Requirement already satisfied: packaging>=20.0 in c:\\users\\inteli\\appdata\\roaming\\python\\python312\\site-packages (from spacy) (24.1)\n",
            "Requirement already satisfied: langcodes<4.0.0,>=3.2.0 in c:\\users\\inteli\\appdata\\local\\programs\\python\\python312\\lib\\site-packages (from spacy) (3.4.0)\n",
            "Requirement already satisfied: language-data>=1.2 in c:\\users\\inteli\\appdata\\local\\programs\\python\\python312\\lib\\site-packages (from langcodes<4.0.0,>=3.2.0->spacy) (1.2.0)\n",
            "Requirement already satisfied: annotated-types>=0.4.0 in c:\\users\\inteli\\appdata\\local\\programs\\python\\python312\\lib\\site-packages (from pydantic!=1.8,!=1.8.1,<3.0.0,>=1.7.4->spacy) (0.7.0)\n",
            "Requirement already satisfied: pydantic-core==2.20.1 in c:\\users\\inteli\\appdata\\local\\programs\\python\\python312\\lib\\site-packages (from pydantic!=1.8,!=1.8.1,<3.0.0,>=1.7.4->spacy) (2.20.1)\n",
            "Requirement already satisfied: typing-extensions>=4.6.1 in c:\\users\\inteli\\appdata\\local\\programs\\python\\python312\\lib\\site-packages (from pydantic!=1.8,!=1.8.1,<3.0.0,>=1.7.4->spacy) (4.12.2)\n",
            "Requirement already satisfied: charset-normalizer<4,>=2 in c:\\users\\inteli\\appdata\\local\\programs\\python\\python312\\lib\\site-packages (from requests<3.0.0,>=2.13.0->spacy) (3.3.2)\n",
            "Requirement already satisfied: idna<4,>=2.5 in c:\\users\\inteli\\appdata\\local\\programs\\python\\python312\\lib\\site-packages (from requests<3.0.0,>=2.13.0->spacy) (3.7)\n",
            "Requirement already satisfied: urllib3<3,>=1.21.1 in c:\\users\\inteli\\appdata\\local\\programs\\python\\python312\\lib\\site-packages (from requests<3.0.0,>=2.13.0->spacy) (2.2.2)\n",
            "Requirement already satisfied: certifi>=2017.4.17 in c:\\users\\inteli\\appdata\\local\\programs\\python\\python312\\lib\\site-packages (from requests<3.0.0,>=2.13.0->spacy) (2024.7.4)\n",
            "Requirement already satisfied: blis<0.8.0,>=0.7.8 in c:\\users\\inteli\\appdata\\local\\programs\\python\\python312\\lib\\site-packages (from thinc<8.3.0,>=8.2.2->spacy) (0.7.11)\n",
            "Requirement already satisfied: confection<1.0.0,>=0.0.1 in c:\\users\\inteli\\appdata\\local\\programs\\python\\python312\\lib\\site-packages (from thinc<8.3.0,>=8.2.2->spacy) (0.1.5)\n",
            "Requirement already satisfied: colorama in c:\\users\\inteli\\appdata\\roaming\\python\\python312\\site-packages (from tqdm<5.0.0,>=4.38.0->spacy) (0.4.6)\n",
            "Requirement already satisfied: click>=8.0.0 in c:\\users\\inteli\\appdata\\local\\programs\\python\\python312\\lib\\site-packages (from typer<1.0.0,>=0.3.0->spacy) (8.1.7)\n",
            "Requirement already satisfied: shellingham>=1.3.0 in c:\\users\\inteli\\appdata\\local\\programs\\python\\python312\\lib\\site-packages (from typer<1.0.0,>=0.3.0->spacy) (1.5.4)\n",
            "Requirement already satisfied: rich>=10.11.0 in c:\\users\\inteli\\appdata\\local\\programs\\python\\python312\\lib\\site-packages (from typer<1.0.0,>=0.3.0->spacy) (13.7.1)\n",
            "Requirement already satisfied: cloudpathlib<1.0.0,>=0.7.0 in c:\\users\\inteli\\appdata\\local\\programs\\python\\python312\\lib\\site-packages (from weasel<0.5.0,>=0.1.0->spacy) (0.18.1)\n",
            "Requirement already satisfied: smart-open<8.0.0,>=5.2.1 in c:\\users\\inteli\\appdata\\local\\programs\\python\\python312\\lib\\site-packages (from weasel<0.5.0,>=0.1.0->spacy) (7.0.4)\n",
            "Requirement already satisfied: MarkupSafe>=2.0 in c:\\users\\inteli\\appdata\\local\\programs\\python\\python312\\lib\\site-packages (from jinja2->spacy) (2.1.5)\n",
            "Requirement already satisfied: marisa-trie>=0.7.7 in c:\\users\\inteli\\appdata\\local\\programs\\python\\python312\\lib\\site-packages (from language-data>=1.2->langcodes<4.0.0,>=3.2.0->spacy) (1.2.0)\n",
            "Requirement already satisfied: markdown-it-py>=2.2.0 in c:\\users\\inteli\\appdata\\local\\programs\\python\\python312\\lib\\site-packages (from rich>=10.11.0->typer<1.0.0,>=0.3.0->spacy) (3.0.0)\n",
            "Requirement already satisfied: pygments<3.0.0,>=2.13.0 in c:\\users\\inteli\\appdata\\roaming\\python\\python312\\site-packages (from rich>=10.11.0->typer<1.0.0,>=0.3.0->spacy) (2.18.0)\n",
            "Requirement already satisfied: wrapt in c:\\users\\inteli\\appdata\\local\\programs\\python\\python312\\lib\\site-packages (from smart-open<8.0.0,>=5.2.1->weasel<0.5.0,>=0.1.0->spacy) (1.16.0)\n",
            "Requirement already satisfied: mdurl~=0.1 in c:\\users\\inteli\\appdata\\local\\programs\\python\\python312\\lib\\site-packages (from markdown-it-py>=2.2.0->rich>=10.11.0->typer<1.0.0,>=0.3.0->spacy) (0.1.2)\n",
            "Note: you may need to restart the kernel to use updated packages.\n",
            "Requirement already satisfied: numpy in c:\\users\\inteli\\appdata\\local\\programs\\python\\python312\\lib\\site-packages (1.26.4)\n",
            "Collecting numpy\n",
            "  Using cached numpy-2.1.1-cp312-cp312-win_amd64.whl.metadata (59 kB)\n",
            "Requirement already satisfied: spacy in c:\\users\\inteli\\appdata\\local\\programs\\python\\python312\\lib\\site-packages (3.7.6)\n",
            "Requirement already satisfied: spacy-legacy<3.1.0,>=3.0.11 in c:\\users\\inteli\\appdata\\local\\programs\\python\\python312\\lib\\site-packages (from spacy) (3.0.12)\n",
            "Requirement already satisfied: spacy-loggers<2.0.0,>=1.0.0 in c:\\users\\inteli\\appdata\\local\\programs\\python\\python312\\lib\\site-packages (from spacy) (1.0.5)\n",
            "Requirement already satisfied: murmurhash<1.1.0,>=0.28.0 in c:\\users\\inteli\\appdata\\local\\programs\\python\\python312\\lib\\site-packages (from spacy) (1.0.10)\n",
            "Requirement already satisfied: cymem<2.1.0,>=2.0.2 in c:\\users\\inteli\\appdata\\local\\programs\\python\\python312\\lib\\site-packages (from spacy) (2.0.8)\n",
            "Requirement already satisfied: preshed<3.1.0,>=3.0.2 in c:\\users\\inteli\\appdata\\local\\programs\\python\\python312\\lib\\site-packages (from spacy) (3.0.9)\n",
            "Requirement already satisfied: thinc<8.3.0,>=8.2.2 in c:\\users\\inteli\\appdata\\local\\programs\\python\\python312\\lib\\site-packages (from spacy) (8.2.5)\n",
            "Requirement already satisfied: wasabi<1.2.0,>=0.9.1 in c:\\users\\inteli\\appdata\\local\\programs\\python\\python312\\lib\\site-packages (from spacy) (1.1.3)\n",
            "Requirement already satisfied: srsly<3.0.0,>=2.4.3 in c:\\users\\inteli\\appdata\\local\\programs\\python\\python312\\lib\\site-packages (from spacy) (2.4.8)\n",
            "Requirement already satisfied: catalogue<2.1.0,>=2.0.6 in c:\\users\\inteli\\appdata\\local\\programs\\python\\python312\\lib\\site-packages (from spacy) (2.0.10)\n",
            "Requirement already satisfied: weasel<0.5.0,>=0.1.0 in c:\\users\\inteli\\appdata\\local\\programs\\python\\python312\\lib\\site-packages (from spacy) (0.4.1)\n",
            "Requirement already satisfied: typer<1.0.0,>=0.3.0 in c:\\users\\inteli\\appdata\\local\\programs\\python\\python312\\lib\\site-packages (from spacy) (0.12.4)\n",
            "Requirement already satisfied: tqdm<5.0.0,>=4.38.0 in c:\\users\\inteli\\appdata\\local\\programs\\python\\python312\\lib\\site-packages (from spacy) (4.66.5)\n",
            "Requirement already satisfied: requests<3.0.0,>=2.13.0 in c:\\users\\inteli\\appdata\\local\\programs\\python\\python312\\lib\\site-packages (from spacy) (2.32.3)\n",
            "Requirement already satisfied: pydantic!=1.8,!=1.8.1,<3.0.0,>=1.7.4 in c:\\users\\inteli\\appdata\\local\\programs\\python\\python312\\lib\\site-packages (from spacy) (2.8.2)\n",
            "Requirement already satisfied: jinja2 in c:\\users\\inteli\\appdata\\local\\programs\\python\\python312\\lib\\site-packages (from spacy) (3.1.4)\n",
            "Requirement already satisfied: setuptools in c:\\users\\inteli\\appdata\\local\\programs\\python\\python312\\lib\\site-packages (from spacy) (73.0.1)\n",
            "Requirement already satisfied: packaging>=20.0 in c:\\users\\inteli\\appdata\\roaming\\python\\python312\\site-packages (from spacy) (24.1)\n",
            "Requirement already satisfied: langcodes<4.0.0,>=3.2.0 in c:\\users\\inteli\\appdata\\local\\programs\\python\\python312\\lib\\site-packages (from spacy) (3.4.0)\n",
            "Requirement already satisfied: language-data>=1.2 in c:\\users\\inteli\\appdata\\local\\programs\\python\\python312\\lib\\site-packages (from langcodes<4.0.0,>=3.2.0->spacy) (1.2.0)\n",
            "Requirement already satisfied: annotated-types>=0.4.0 in c:\\users\\inteli\\appdata\\local\\programs\\python\\python312\\lib\\site-packages (from pydantic!=1.8,!=1.8.1,<3.0.0,>=1.7.4->spacy) (0.7.0)\n",
            "Requirement already satisfied: pydantic-core==2.20.1 in c:\\users\\inteli\\appdata\\local\\programs\\python\\python312\\lib\\site-packages (from pydantic!=1.8,!=1.8.1,<3.0.0,>=1.7.4->spacy) (2.20.1)\n",
            "Requirement already satisfied: typing-extensions>=4.6.1 in c:\\users\\inteli\\appdata\\local\\programs\\python\\python312\\lib\\site-packages (from pydantic!=1.8,!=1.8.1,<3.0.0,>=1.7.4->spacy) (4.12.2)\n",
            "Requirement already satisfied: charset-normalizer<4,>=2 in c:\\users\\inteli\\appdata\\local\\programs\\python\\python312\\lib\\site-packages (from requests<3.0.0,>=2.13.0->spacy) (3.3.2)\n",
            "Requirement already satisfied: idna<4,>=2.5 in c:\\users\\inteli\\appdata\\local\\programs\\python\\python312\\lib\\site-packages (from requests<3.0.0,>=2.13.0->spacy) (3.7)\n",
            "Requirement already satisfied: urllib3<3,>=1.21.1 in c:\\users\\inteli\\appdata\\local\\programs\\python\\python312\\lib\\site-packages (from requests<3.0.0,>=2.13.0->spacy) (2.2.2)\n",
            "Requirement already satisfied: certifi>=2017.4.17 in c:\\users\\inteli\\appdata\\local\\programs\\python\\python312\\lib\\site-packages (from requests<3.0.0,>=2.13.0->spacy) (2024.7.4)\n",
            "Requirement already satisfied: blis<0.8.0,>=0.7.8 in c:\\users\\inteli\\appdata\\local\\programs\\python\\python312\\lib\\site-packages (from thinc<8.3.0,>=8.2.2->spacy) (0.7.11)\n",
            "Requirement already satisfied: confection<1.0.0,>=0.0.1 in c:\\users\\inteli\\appdata\\local\\programs\\python\\python312\\lib\\site-packages (from thinc<8.3.0,>=8.2.2->spacy) (0.1.5)\n",
            "Requirement already satisfied: colorama in c:\\users\\inteli\\appdata\\roaming\\python\\python312\\site-packages (from tqdm<5.0.0,>=4.38.0->spacy) (0.4.6)\n",
            "Requirement already satisfied: click>=8.0.0 in c:\\users\\inteli\\appdata\\local\\programs\\python\\python312\\lib\\site-packages (from typer<1.0.0,>=0.3.0->spacy) (8.1.7)\n",
            "Requirement already satisfied: shellingham>=1.3.0 in c:\\users\\inteli\\appdata\\local\\programs\\python\\python312\\lib\\site-packages (from typer<1.0.0,>=0.3.0->spacy) (1.5.4)\n",
            "Requirement already satisfied: rich>=10.11.0 in c:\\users\\inteli\\appdata\\local\\programs\\python\\python312\\lib\\site-packages (from typer<1.0.0,>=0.3.0->spacy) (13.7.1)\n",
            "Requirement already satisfied: cloudpathlib<1.0.0,>=0.7.0 in c:\\users\\inteli\\appdata\\local\\programs\\python\\python312\\lib\\site-packages (from weasel<0.5.0,>=0.1.0->spacy) (0.18.1)\n",
            "Requirement already satisfied: smart-open<8.0.0,>=5.2.1 in c:\\users\\inteli\\appdata\\local\\programs\\python\\python312\\lib\\site-packages (from weasel<0.5.0,>=0.1.0->spacy) (7.0.4)\n",
            "Requirement already satisfied: MarkupSafe>=2.0 in c:\\users\\inteli\\appdata\\local\\programs\\python\\python312\\lib\\site-packages (from jinja2->spacy) (2.1.5)\n",
            "Requirement already satisfied: marisa-trie>=0.7.7 in c:\\users\\inteli\\appdata\\local\\programs\\python\\python312\\lib\\site-packages (from language-data>=1.2->langcodes<4.0.0,>=3.2.0->spacy) (1.2.0)\n",
            "Requirement already satisfied: markdown-it-py>=2.2.0 in c:\\users\\inteli\\appdata\\local\\programs\\python\\python312\\lib\\site-packages (from rich>=10.11.0->typer<1.0.0,>=0.3.0->spacy) (3.0.0)\n",
            "Requirement already satisfied: pygments<3.0.0,>=2.13.0 in c:\\users\\inteli\\appdata\\roaming\\python\\python312\\site-packages (from rich>=10.11.0->typer<1.0.0,>=0.3.0->spacy) (2.18.0)\n",
            "Requirement already satisfied: wrapt in c:\\users\\inteli\\appdata\\local\\programs\\python\\python312\\lib\\site-packages (from smart-open<8.0.0,>=5.2.1->weasel<0.5.0,>=0.1.0->spacy) (1.16.0)\n",
            "Requirement already satisfied: mdurl~=0.1 in c:\\users\\inteli\\appdata\\local\\programs\\python\\python312\\lib\\site-packages (from markdown-it-py>=2.2.0->rich>=10.11.0->typer<1.0.0,>=0.3.0->spacy) (0.1.2)\n",
            "Note: you may need to restart the kernel to use updated packages.\n",
            "Requirement already satisfied: keras in c:\\users\\inteli\\appdata\\local\\programs\\python\\python312\\lib\\site-packages (3.5.0)\n",
            "Requirement already satisfied: absl-py in c:\\users\\inteli\\appdata\\local\\programs\\python\\python312\\lib\\site-packages (from keras) (2.1.0)\n",
            "Requirement already satisfied: numpy in c:\\users\\inteli\\appdata\\local\\programs\\python\\python312\\lib\\site-packages (from keras) (1.26.4)\n",
            "Requirement already satisfied: rich in c:\\users\\inteli\\appdata\\local\\programs\\python\\python312\\lib\\site-packages (from keras) (13.7.1)\n",
            "Requirement already satisfied: namex in c:\\users\\inteli\\appdata\\local\\programs\\python\\python312\\lib\\site-packages (from keras) (0.0.8)\n",
            "Requirement already satisfied: h5py in c:\\users\\inteli\\appdata\\local\\programs\\python\\python312\\lib\\site-packages (from keras) (3.11.0)\n",
            "Requirement already satisfied: optree in c:\\users\\inteli\\appdata\\local\\programs\\python\\python312\\lib\\site-packages (from keras) (0.12.1)\n",
            "Requirement already satisfied: ml-dtypes in c:\\users\\inteli\\appdata\\local\\programs\\python\\python312\\lib\\site-packages (from keras) (0.4.0)\n",
            "Requirement already satisfied: packaging in c:\\users\\inteli\\appdata\\roaming\\python\\python312\\site-packages (from keras) (24.1)\n",
            "Requirement already satisfied: typing-extensions>=4.5.0 in c:\\users\\inteli\\appdata\\local\\programs\\python\\python312\\lib\\site-packages (from optree->keras) (4.12.2)\n",
            "Requirement already satisfied: markdown-it-py>=2.2.0 in c:\\users\\inteli\\appdata\\local\\programs\\python\\python312\\lib\\site-packages (from rich->keras) (3.0.0)\n",
            "Requirement already satisfied: pygments<3.0.0,>=2.13.0 in c:\\users\\inteli\\appdata\\roaming\\python\\python312\\site-packages (from rich->keras) (2.18.0)\n",
            "Requirement already satisfied: mdurl~=0.1 in c:\\users\\inteli\\appdata\\local\\programs\\python\\python312\\lib\\site-packages (from markdown-it-py>=2.2.0->rich->keras) (0.1.2)\n",
            "Note: you may need to restart the kernel to use updated packages.\n",
            "Requirement already satisfied: tensorflow in c:\\users\\inteli\\appdata\\local\\programs\\python\\python312\\lib\\site-packages (2.17.0)\n",
            "Requirement already satisfied: tensorflow-intel==2.17.0 in c:\\users\\inteli\\appdata\\local\\programs\\python\\python312\\lib\\site-packages (from tensorflow) (2.17.0)\n",
            "Requirement already satisfied: absl-py>=1.0.0 in c:\\users\\inteli\\appdata\\local\\programs\\python\\python312\\lib\\site-packages (from tensorflow-intel==2.17.0->tensorflow) (2.1.0)\n",
            "Requirement already satisfied: astunparse>=1.6.0 in c:\\users\\inteli\\appdata\\local\\programs\\python\\python312\\lib\\site-packages (from tensorflow-intel==2.17.0->tensorflow) (1.6.3)\n",
            "Requirement already satisfied: flatbuffers>=24.3.25 in c:\\users\\inteli\\appdata\\local\\programs\\python\\python312\\lib\\site-packages (from tensorflow-intel==2.17.0->tensorflow) (24.3.25)\n",
            "Requirement already satisfied: gast!=0.5.0,!=0.5.1,!=0.5.2,>=0.2.1 in c:\\users\\inteli\\appdata\\local\\programs\\python\\python312\\lib\\site-packages (from tensorflow-intel==2.17.0->tensorflow) (0.6.0)\n",
            "Requirement already satisfied: google-pasta>=0.1.1 in c:\\users\\inteli\\appdata\\local\\programs\\python\\python312\\lib\\site-packages (from tensorflow-intel==2.17.0->tensorflow) (0.2.0)\n",
            "Requirement already satisfied: h5py>=3.10.0 in c:\\users\\inteli\\appdata\\local\\programs\\python\\python312\\lib\\site-packages (from tensorflow-intel==2.17.0->tensorflow) (3.11.0)\n",
            "Requirement already satisfied: libclang>=13.0.0 in c:\\users\\inteli\\appdata\\local\\programs\\python\\python312\\lib\\site-packages (from tensorflow-intel==2.17.0->tensorflow) (18.1.1)\n",
            "Requirement already satisfied: ml-dtypes<0.5.0,>=0.3.1 in c:\\users\\inteli\\appdata\\local\\programs\\python\\python312\\lib\\site-packages (from tensorflow-intel==2.17.0->tensorflow) (0.4.0)\n",
            "Requirement already satisfied: opt-einsum>=2.3.2 in c:\\users\\inteli\\appdata\\local\\programs\\python\\python312\\lib\\site-packages (from tensorflow-intel==2.17.0->tensorflow) (3.3.0)\n",
            "Requirement already satisfied: packaging in c:\\users\\inteli\\appdata\\roaming\\python\\python312\\site-packages (from tensorflow-intel==2.17.0->tensorflow) (24.1)\n",
            "Collecting protobuf!=4.21.0,!=4.21.1,!=4.21.2,!=4.21.3,!=4.21.4,!=4.21.5,<5.0.0dev,>=3.20.3 (from tensorflow-intel==2.17.0->tensorflow)\n",
            "  Using cached protobuf-4.25.5-cp310-abi3-win_amd64.whl.metadata (541 bytes)\n",
            "Requirement already satisfied: requests<3,>=2.21.0 in c:\\users\\inteli\\appdata\\local\\programs\\python\\python312\\lib\\site-packages (from tensorflow-intel==2.17.0->tensorflow) (2.32.3)\n",
            "Requirement already satisfied: setuptools in c:\\users\\inteli\\appdata\\local\\programs\\python\\python312\\lib\\site-packages (from tensorflow-intel==2.17.0->tensorflow) (73.0.1)\n",
            "Requirement already satisfied: six>=1.12.0 in c:\\users\\inteli\\appdata\\roaming\\python\\python312\\site-packages (from tensorflow-intel==2.17.0->tensorflow) (1.16.0)\n",
            "Requirement already satisfied: termcolor>=1.1.0 in c:\\users\\inteli\\appdata\\local\\programs\\python\\python312\\lib\\site-packages (from tensorflow-intel==2.17.0->tensorflow) (2.4.0)\n",
            "Requirement already satisfied: typing-extensions>=3.6.6 in c:\\users\\inteli\\appdata\\local\\programs\\python\\python312\\lib\\site-packages (from tensorflow-intel==2.17.0->tensorflow) (4.12.2)\n",
            "Requirement already satisfied: wrapt>=1.11.0 in c:\\users\\inteli\\appdata\\local\\programs\\python\\python312\\lib\\site-packages (from tensorflow-intel==2.17.0->tensorflow) (1.16.0)\n",
            "Requirement already satisfied: grpcio<2.0,>=1.24.3 in c:\\users\\inteli\\appdata\\local\\programs\\python\\python312\\lib\\site-packages (from tensorflow-intel==2.17.0->tensorflow) (1.66.1)\n",
            "Requirement already satisfied: tensorboard<2.18,>=2.17 in c:\\users\\inteli\\appdata\\local\\programs\\python\\python312\\lib\\site-packages (from tensorflow-intel==2.17.0->tensorflow) (2.17.1)\n",
            "Requirement already satisfied: keras>=3.2.0 in c:\\users\\inteli\\appdata\\local\\programs\\python\\python312\\lib\\site-packages (from tensorflow-intel==2.17.0->tensorflow) (3.5.0)\n",
            "Requirement already satisfied: numpy<2.0.0,>=1.26.0 in c:\\users\\inteli\\appdata\\local\\programs\\python\\python312\\lib\\site-packages (from tensorflow-intel==2.17.0->tensorflow) (1.26.4)\n",
            "Requirement already satisfied: wheel<1.0,>=0.23.0 in c:\\users\\inteli\\appdata\\local\\programs\\python\\python312\\lib\\site-packages (from astunparse>=1.6.0->tensorflow-intel==2.17.0->tensorflow) (0.44.0)\n",
            "Requirement already satisfied: rich in c:\\users\\inteli\\appdata\\local\\programs\\python\\python312\\lib\\site-packages (from keras>=3.2.0->tensorflow-intel==2.17.0->tensorflow) (13.7.1)\n",
            "Requirement already satisfied: namex in c:\\users\\inteli\\appdata\\local\\programs\\python\\python312\\lib\\site-packages (from keras>=3.2.0->tensorflow-intel==2.17.0->tensorflow) (0.0.8)\n",
            "Requirement already satisfied: optree in c:\\users\\inteli\\appdata\\local\\programs\\python\\python312\\lib\\site-packages (from keras>=3.2.0->tensorflow-intel==2.17.0->tensorflow) (0.12.1)\n",
            "Requirement already satisfied: charset-normalizer<4,>=2 in c:\\users\\inteli\\appdata\\local\\programs\\python\\python312\\lib\\site-packages (from requests<3,>=2.21.0->tensorflow-intel==2.17.0->tensorflow) (3.3.2)\n",
            "Requirement already satisfied: idna<4,>=2.5 in c:\\users\\inteli\\appdata\\local\\programs\\python\\python312\\lib\\site-packages (from requests<3,>=2.21.0->tensorflow-intel==2.17.0->tensorflow) (3.7)\n",
            "Requirement already satisfied: urllib3<3,>=1.21.1 in c:\\users\\inteli\\appdata\\local\\programs\\python\\python312\\lib\\site-packages (from requests<3,>=2.21.0->tensorflow-intel==2.17.0->tensorflow) (2.2.2)\n",
            "Requirement already satisfied: certifi>=2017.4.17 in c:\\users\\inteli\\appdata\\local\\programs\\python\\python312\\lib\\site-packages (from requests<3,>=2.21.0->tensorflow-intel==2.17.0->tensorflow) (2024.7.4)\n",
            "Requirement already satisfied: markdown>=2.6.8 in c:\\users\\inteli\\appdata\\local\\programs\\python\\python312\\lib\\site-packages (from tensorboard<2.18,>=2.17->tensorflow-intel==2.17.0->tensorflow) (3.7)\n",
            "Requirement already satisfied: tensorboard-data-server<0.8.0,>=0.7.0 in c:\\users\\inteli\\appdata\\local\\programs\\python\\python312\\lib\\site-packages (from tensorboard<2.18,>=2.17->tensorflow-intel==2.17.0->tensorflow) (0.7.2)\n",
            "Requirement already satisfied: werkzeug>=1.0.1 in c:\\users\\inteli\\appdata\\local\\programs\\python\\python312\\lib\\site-packages (from tensorboard<2.18,>=2.17->tensorflow-intel==2.17.0->tensorflow) (3.0.4)\n",
            "Requirement already satisfied: MarkupSafe>=2.1.1 in c:\\users\\inteli\\appdata\\local\\programs\\python\\python312\\lib\\site-packages (from werkzeug>=1.0.1->tensorboard<2.18,>=2.17->tensorflow-intel==2.17.0->tensorflow) (2.1.5)\n",
            "Requirement already satisfied: markdown-it-py>=2.2.0 in c:\\users\\inteli\\appdata\\local\\programs\\python\\python312\\lib\\site-packages (from rich->keras>=3.2.0->tensorflow-intel==2.17.0->tensorflow) (3.0.0)\n",
            "Requirement already satisfied: pygments<3.0.0,>=2.13.0 in c:\\users\\inteli\\appdata\\roaming\\python\\python312\\site-packages (from rich->keras>=3.2.0->tensorflow-intel==2.17.0->tensorflow) (2.18.0)\n",
            "Requirement already satisfied: mdurl~=0.1 in c:\\users\\inteli\\appdata\\local\\programs\\python\\python312\\lib\\site-packages (from markdown-it-py>=2.2.0->rich->keras>=3.2.0->tensorflow-intel==2.17.0->tensorflow) (0.1.2)\n",
            "Using cached protobuf-4.25.5-cp310-abi3-win_amd64.whl (413 kB)\n",
            "Installing collected packages: protobuf\n",
            "  Attempting uninstall: protobuf\n",
            "    Found existing installation: protobuf 5.28.2\n",
            "    Uninstalling protobuf-5.28.2:\n",
            "      Successfully uninstalled protobuf-5.28.2\n",
            "Successfully installed protobuf-4.25.5\n",
            "Note: you may need to restart the kernel to use updated packages.\n"
          ]
        },
        {
          "name": "stderr",
          "output_type": "stream",
          "text": [
            "ERROR: pip's dependency resolver does not currently take into account all the packages that are installed. This behaviour is the source of the following dependency conflicts.\n",
            "grpcio-status 1.66.1 requires protobuf<6.0dev,>=5.26.1, but you have protobuf 4.25.5 which is incompatible.\n",
            "tf2onnx 1.16.1 requires protobuf~=3.20, but you have protobuf 4.25.5 which is incompatible.\n"
          ]
        },
        {
          "name": "stdout",
          "output_type": "stream",
          "text": [
            "Requirement already satisfied: pandas in c:\\users\\inteli\\appdata\\local\\programs\\python\\python312\\lib\\site-packages (2.2.2)\n",
            "Requirement already satisfied: numpy>=1.26.0 in c:\\users\\inteli\\appdata\\local\\programs\\python\\python312\\lib\\site-packages (from pandas) (1.26.4)\n",
            "Requirement already satisfied: python-dateutil>=2.8.2 in c:\\users\\inteli\\appdata\\roaming\\python\\python312\\site-packages (from pandas) (2.9.0.post0)\n",
            "Requirement already satisfied: pytz>=2020.1 in c:\\users\\inteli\\appdata\\local\\programs\\python\\python312\\lib\\site-packages (from pandas) (2024.1)\n",
            "Requirement already satisfied: tzdata>=2022.7 in c:\\users\\inteli\\appdata\\local\\programs\\python\\python312\\lib\\site-packages (from pandas) (2024.1)\n",
            "Requirement already satisfied: six>=1.5 in c:\\users\\inteli\\appdata\\roaming\\python\\python312\\site-packages (from python-dateutil>=2.8.2->pandas) (1.16.0)\n",
            "Note: you may need to restart the kernel to use updated packages.\n",
            "Requirement already satisfied: scikit-learn in c:\\users\\inteli\\appdata\\local\\programs\\python\\python312\\lib\\site-packages (1.5.1)\n",
            "Requirement already satisfied: numpy>=1.19.5 in c:\\users\\inteli\\appdata\\local\\programs\\python\\python312\\lib\\site-packages (from scikit-learn) (1.26.4)\n",
            "Requirement already satisfied: scipy>=1.6.0 in c:\\users\\inteli\\appdata\\local\\programs\\python\\python312\\lib\\site-packages (from scikit-learn) (1.14.1)\n",
            "Requirement already satisfied: joblib>=1.2.0 in c:\\users\\inteli\\appdata\\local\\programs\\python\\python312\\lib\\site-packages (from scikit-learn) (1.4.2)\n",
            "Requirement already satisfied: threadpoolctl>=3.1.0 in c:\\users\\inteli\\appdata\\local\\programs\\python\\python312\\lib\\site-packages (from scikit-learn) (3.5.0)\n",
            "Note: you may need to restart the kernel to use updated packages.\n",
            "Requirement already satisfied: nltk in c:\\users\\inteli\\appdata\\local\\programs\\python\\python312\\lib\\site-packages (3.9.1)\n",
            "Requirement already satisfied: click in c:\\users\\inteli\\appdata\\local\\programs\\python\\python312\\lib\\site-packages (from nltk) (8.1.7)\n",
            "Requirement already satisfied: joblib in c:\\users\\inteli\\appdata\\local\\programs\\python\\python312\\lib\\site-packages (from nltk) (1.4.2)\n",
            "Requirement already satisfied: regex>=2021.8.3 in c:\\users\\inteli\\appdata\\local\\programs\\python\\python312\\lib\\site-packages (from nltk) (2024.7.24)\n",
            "Requirement already satisfied: tqdm in c:\\users\\inteli\\appdata\\local\\programs\\python\\python312\\lib\\site-packages (from nltk) (4.66.5)\n",
            "Requirement already satisfied: colorama in c:\\users\\inteli\\appdata\\roaming\\python\\python312\\site-packages (from click->nltk) (0.4.6)\n",
            "Note: you may need to restart the kernel to use updated packages.\n",
            "Note: you may need to restart the kernel to use updated packages.Requirement already satisfied: tf2onnx in c:\\users\\inteli\\appdata\\local\\programs\\python\\python312\\lib\\site-packages (1.16.1)\n",
            "Requirement already satisfied: numpy>=1.14.1 in c:\\users\\inteli\\appdata\\local\\programs\\python\\python312\\lib\\site-packages (from tf2onnx) (1.26.4)\n",
            "Requirement already satisfied: onnx>=1.4.1 in c:\\users\\inteli\\appdata\\local\\programs\\python\\python312\\lib\\site-packages (from tf2onnx) (1.16.2)\n",
            "Requirement already satisfied: requests in c:\\users\\inteli\\appdata\\local\\programs\\python\\python312\\lib\\site-packages (from tf2onnx) (2.32.3)\n",
            "Requirement already satisfied: six in c:\\users\\inteli\\appdata\\roaming\\python\\python312\\site-packages (from tf2onnx) (1.16.0)\n",
            "Requirement already satisfied: flatbuffers>=1.12 in c:\\users\\inteli\\appdata\\local\\programs\\python\\python312\\lib\\site-packages (from tf2onnx) (24.3.25)\n",
            "Collecting protobuf~=3.20 (from tf2onnx)\n",
            "  Using cached protobuf-3.20.3-py2.py3-none-any.whl.metadata (720 bytes)\n",
            "Requirement already satisfied: charset-normalizer<4,>=2 in c:\\users\\inteli\\appdata\\local\\programs\\python\\python312\\lib\\site-packages (from requests->tf2onnx) (3.3.2)\n",
            "Requirement already satisfied: idna<4,>=2.5 in c:\\users\\inteli\\appdata\\local\\programs\\python\\python312\\lib\\site-packages (from requests->tf2onnx) (3.7)\n",
            "Requirement already satisfied: urllib3<3,>=1.21.1 in c:\\users\\inteli\\appdata\\local\\programs\\python\\python312\\lib\\site-packages (from requests->tf2onnx) (2.2.2)\n",
            "Requirement already satisfied: certifi>=2017.4.17 in c:\\users\\inteli\\appdata\\local\\programs\\python\\python312\\lib\\site-packages (from requests->tf2onnx) (2024.7.4)\n",
            "Using cached protobuf-3.20.3-py2.py3-none-any.whl (162 kB)\n",
            "Installing collected packages: protobuf\n",
            "  Attempting uninstall: protobuf\n",
            "    Found existing installation: protobuf 4.25.5\n",
            "    Uninstalling protobuf-4.25.5:\n",
            "      Successfully uninstalled protobuf-4.25.5\n",
            "Successfully installed protobuf-3.20.3\n",
            "\n"
          ]
        },
        {
          "name": "stderr",
          "output_type": "stream",
          "text": [
            "ERROR: pip's dependency resolver does not currently take into account all the packages that are installed. This behaviour is the source of the following dependency conflicts.\n",
            "grpcio-status 1.66.1 requires protobuf<6.0dev,>=5.26.1, but you have protobuf 3.20.3 which is incompatible.\n"
          ]
        },
        {
          "name": "stdout",
          "output_type": "stream",
          "text": [
            "Requirement already satisfied: python-dotenv in c:\\users\\inteli\\appdata\\local\\programs\\python\\python312\\lib\\site-packages (1.0.1)\n",
            "Note: you may need to restart the kernel to use updated packages.\n"
          ]
        }
      ],
      "source": [
        "%pip install numpy spacy\n",
        "%pip install --upgrade numpy spacy\n",
        "%pip install keras\n",
        "%pip install tensorflow\n",
        "%pip install pandas\n",
        "%pip install scikit-learn\n",
        "%pip install nltk\n",
        "%pip install tf2onnx\n",
        "%pip install python-dotenv"
      ]
    },
    {
      "cell_type": "code",
      "execution_count": 2,
      "metadata": {
        "id": "qibhIn1pqZom"
      },
      "outputs": [],
      "source": [
        "#Importação das bibliotecas\n",
        "import spacy\n",
        "import numpy\n",
        "import pandas as pd\n",
        "from sklearn.feature_extraction.text import TfidfVectorizer\n",
        "from sklearn.model_selection import train_test_split\n",
        "from sklearn.naive_bayes import MultinomialNB\n",
        "from sklearn.metrics import accuracy_score, classification_report\n"
      ]
    },
    {
      "cell_type": "markdown",
      "metadata": {
        "id": "7dc2jSa1qZom"
      },
      "source": [
        "# Pré-processamento e Pipeline"
      ]
    },
    {
      "cell_type": "markdown",
      "metadata": {
        "id": "EVXoF1LrqZon"
      },
      "source": [
        "## Biblioteca Spacy"
      ]
    },
    {
      "cell_type": "code",
      "execution_count": 3,
      "metadata": {
        "colab": {
          "base_uri": "https://localhost:8080/"
        },
        "id": "bJUDxMooqZon",
        "outputId": "23751191-8d92-46de-bc90-d497756ca85b"
      },
      "outputs": [],
      "source": [
        "# Baixar e carregar o modelo de linguagem para português (uma vez)\n",
        "# spacy.cli.download(\"pt_core_news_lg\")\n",
        "nlp = spacy.load(\"pt_core_news_lg\")"
      ]
    },
    {
      "cell_type": "code",
      "execution_count": 4,
      "metadata": {
        "id": "kdXT68kmqZon"
      },
      "outputs": [],
      "source": [
        "# Função para separar as sentenças\n",
        "def extract_sentences(doc):\n",
        "    sentences = [sent for sent in doc.sents]  # A função retorna spans (conjuntos de tokens)\n",
        "    return sentences\n",
        "\n",
        "# Função para separar em tokens (palavras)\n",
        "def tokenize(sentences):\n",
        "    tokens = []\n",
        "    for sentence in sentences:\n",
        "        # Retorna tokens diretamente como objetos spaCy\n",
        "        sentence_tokens = [token for token in sentence]  # Mantém os objetos Token\n",
        "        tokens.extend(sentence_tokens)\n",
        "    return tokens\n",
        "\n",
        "# Função para remover stop words\n",
        "def extract_stop_words(tokens):\n",
        "    # Verifica se é um objeto Token e não string\n",
        "    words_filtered = [token for token in tokens if not token.is_stop]\n",
        "    return words_filtered\n",
        "\n",
        "# Função para lematizar as palavras\n",
        "def extract_lemmatizer(tokens):\n",
        "    # Lematiza se for objeto Token\n",
        "    lemmatized_words = [token.lemma_ for token in tokens]\n",
        "    return lemmatized_words\n",
        "\n",
        "# Função para remover pontuação\n",
        "def rem_pontuacao(tokens):\n",
        "    # Remove pontuação se for objeto Token\n",
        "    words_no_punctuation = [token for token in tokens if not token.is_punct]\n",
        "    return words_no_punctuation\n",
        "\n",
        "# Função para POS tagging\n",
        "def pos_tagging(tokens):\n",
        "    # Recebe objetos Token e extrai tags POS e dependências\n",
        "    pos_tags = [(token.text, token.pos_, token.dep_) for token in tokens]\n",
        "    return pos_tags\n"
      ]
    },
    {
      "cell_type": "markdown",
      "metadata": {
        "id": "gYWg4DVqqZoo"
      },
      "source": [
        "## Teste inicial do pré-processamento"
      ]
    },
    {
      "cell_type": "code",
      "execution_count": 5,
      "metadata": {
        "id": "D4ssu-mLqZoo"
      },
      "outputs": [],
      "source": [
        "# Teste: Texto simples em português\n",
        "texto = \"me    mostre as    atualizações do dia 11 de agosto    .\"\n",
        "texto_limpo = ' '.join(texto.split())\n",
        "\n",
        "doc = nlp(texto_limpo.lower())"
      ]
    },
    {
      "cell_type": "code",
      "execution_count": 6,
      "metadata": {
        "colab": {
          "base_uri": "https://localhost:8080/"
        },
        "id": "hgxl8QT6qZoo",
        "outputId": "45a48409-c17c-43c7-8877-ba07b3fd60a3"
      },
      "outputs": [
        {
          "name": "stdout",
          "output_type": "stream",
          "text": [
            "['mostrar', 'atualização', 'dia', '11', 'agosto']\n",
            "[('me', 'PRON', 'obj'), ('mostre', 'VERB', 'ROOT'), ('as', 'DET', 'det'), ('atualizações', 'NOUN', 'obj'), ('do', 'ADP', 'case'), ('dia', 'NOUN', 'nmod'), ('11', 'NUM', 'nummod'), ('de', 'ADP', 'case'), ('agosto', 'NOUN', 'nmod'), ('.', 'PUNCT', 'punct')]\n"
          ]
        }
      ],
      "source": [
        "\n",
        "# Extração de sentenças\n",
        "resultado = extract_sentences(doc)\n",
        "\n",
        "# Reprocessar o texto (concatenar as sentenças) para formar um novo 'doc'\n",
        "tokens = tokenize(resultado)\n",
        "\n",
        "# POS Tagging\n",
        "ents = pos_tagging(tokens)\n",
        "\n",
        "# Remover stop words\n",
        "resultado = extract_stop_words(tokens)\n",
        "\n",
        "# Remover pontuações\n",
        "resultado = rem_pontuacao(resultado)\n",
        "\n",
        "# Lematização\n",
        "resultado = extract_lemmatizer(resultado)\n",
        "\n",
        "print(resultado)\n",
        "print(ents)"
      ]
    },
    {
      "cell_type": "code",
      "execution_count": 7,
      "metadata": {
        "id": "iipAXr9H3_7R"
      },
      "outputs": [],
      "source": [
        "def to_string(list):\n",
        "  string = \"\"\n",
        "  for word in list:\n",
        "    string += word + ' '\n",
        "  return string.strip()"
      ]
    },
    {
      "cell_type": "code",
      "execution_count": 8,
      "metadata": {
        "id": "jGq1LHR_qZoo"
      },
      "outputs": [],
      "source": [
        "# Text preprocessing function\n",
        "def preprocess_text(text):\n",
        "    # Convert the text to lowercase and create a spaCy doc object\n",
        "    doc = nlp(text.lower())\n",
        "    \n",
        "    # Sentence extraction\n",
        "    resultado = extract_sentences(doc)\n",
        "\n",
        "    # Tokenization\n",
        "    tokens = tokenize(resultado)\n",
        "\n",
        "    # POS tagging (Part of Speech tagging)\n",
        "    pos_tags = pos_tagging(tokens)\n",
        "\n",
        "    # Stop words removal (this line is commented out, so stop words won't be removed)\n",
        "    # tokens = extract_stop_words(tokens)\n",
        "\n",
        "    # Remove punctuation\n",
        "    # tokens = rem_pontuacao(tokens)\n",
        "\n",
        "    # Lemmatization (this line is commented out, so lemmatization won't be applied)\n",
        "    # tokens = extract_lemmatizer(tokens)\n",
        "\n",
        "    # Convert the tokens into strings before concatenating them\n",
        "    tokens = ' '.join([token.text for token in tokens])\n",
        "    \n",
        "    # Return the concatenated string of processed tokens\n",
        "    return tokens\n"
      ]
    },
    {
      "cell_type": "code",
      "execution_count": 9,
      "metadata": {},
      "outputs": [],
      "source": [
        "# Text preprocessing function\n",
        "def preprocess_model(text):\n",
        "    # Convert the text to lowercase and create a spaCy doc object\n",
        "    doc = nlp(text.lower())\n",
        "    \n",
        "    # Sentence extraction\n",
        "    resultado = extract_sentences(doc)\n",
        "\n",
        "    # Tokenization\n",
        "    tokens = tokenize(resultado)\n",
        "\n",
        "    # Remove stop words\n",
        "    tokens = extract_stop_words(tokens)\n",
        "\n",
        "    # Remove punctuation\n",
        "    tokens = rem_pontuacao(tokens)\n",
        "\n",
        "    # Lemmatization (this line is commented out, so lemmatization won't be applied)\n",
        "    # tokens = extract_lemmatizer(tokens)\n",
        "\n",
        "    # Convert the tokens into strings before concatenating them\n",
        "    tokens = ' '.join([token.text for token in tokens])\n",
        "    \n",
        "    # Return the concatenated string of processed tokens\n",
        "    return tokens\n"
      ]
    },
    {
      "cell_type": "code",
      "execution_count": 10,
      "metadata": {
        "colab": {
          "base_uri": "https://localhost:8080/"
        },
        "id": "Luu2xTErsZT_",
        "outputId": "989101e3-f05c-43dc-af11-1c1146915c94"
      },
      "outputs": [
        {
          "data": {
            "text/plain": [
              "'ai que vontade de viajar senhorr'"
            ]
          },
          "execution_count": 10,
          "metadata": {},
          "output_type": "execute_result"
        }
      ],
      "source": [
        "texto = \"Ai que vontade de viajar senhorr\"\n",
        "preprocess_text(texto)"
      ]
    },
    {
      "cell_type": "markdown",
      "metadata": {
        "id": "6TvCw4euqZop"
      },
      "source": [
        "# Treinamento do modelo"
      ]
    },
    {
      "cell_type": "code",
      "execution_count": 11,
      "metadata": {
        "id": "3D-pg-S-qZop"
      },
      "outputs": [],
      "source": [
        "from sklearn.svm import LinearSVC"
      ]
    },
    {
      "cell_type": "markdown",
      "metadata": {},
      "source": [
        "## Base de dados"
      ]
    },
    {
      "cell_type": "code",
      "execution_count": 12,
      "metadata": {
        "id": "mCaRelbVqZop"
      },
      "outputs": [
        {
          "data": {
            "text/html": [
              "<div>\n",
              "<style scoped>\n",
              "    .dataframe tbody tr th:only-of-type {\n",
              "        vertical-align: middle;\n",
              "    }\n",
              "\n",
              "    .dataframe tbody tr th {\n",
              "        vertical-align: top;\n",
              "    }\n",
              "\n",
              "    .dataframe thead th {\n",
              "        text-align: right;\n",
              "    }\n",
              "</style>\n",
              "<table border=\"1\" class=\"dataframe\">\n",
              "  <thead>\n",
              "    <tr style=\"text-align: right;\">\n",
              "      <th></th>\n",
              "      <th>frase</th>\n",
              "      <th>tag</th>\n",
              "    </tr>\n",
              "  </thead>\n",
              "  <tbody>\n",
              "    <tr>\n",
              "      <th>0</th>\n",
              "      <td>A regulação de mercado busca equilibrar a comp...</td>\n",
              "      <td>consulta_normativa</td>\n",
              "    </tr>\n",
              "    <tr>\n",
              "      <th>1</th>\n",
              "      <td>O comitê regulador foi criado para garantir a ...</td>\n",
              "      <td>consulta_normativa</td>\n",
              "    </tr>\n",
              "    <tr>\n",
              "      <th>2</th>\n",
              "      <td>A auditoria interna identificou falhas nos con...</td>\n",
              "      <td>consulta_normativa</td>\n",
              "    </tr>\n",
              "    <tr>\n",
              "      <th>3</th>\n",
              "      <td>A fiscalização intensificou suas atividades pa...</td>\n",
              "      <td>consulta_normativa</td>\n",
              "    </tr>\n",
              "    <tr>\n",
              "      <th>4</th>\n",
              "      <td>A governança corporativa garante transparência...</td>\n",
              "      <td>consulta_normativa</td>\n",
              "    </tr>\n",
              "  </tbody>\n",
              "</table>\n",
              "</div>"
            ],
            "text/plain": [
              "                                               frase                 tag\n",
              "0  A regulação de mercado busca equilibrar a comp...  consulta_normativa\n",
              "1  O comitê regulador foi criado para garantir a ...  consulta_normativa\n",
              "2  A auditoria interna identificou falhas nos con...  consulta_normativa\n",
              "3  A fiscalização intensificou suas atividades pa...  consulta_normativa\n",
              "4  A governança corporativa garante transparência...  consulta_normativa"
            ]
          },
          "execution_count": 12,
          "metadata": {},
          "output_type": "execute_result"
        }
      ],
      "source": [
        "import pandas as pd\n",
        "\n",
        "# Dados\n",
        "data = {\n",
        "    'frase': [\n",
        "        \"A regulação de mercado busca equilibrar a competição e proteger os consumidores\", \n",
        "        \"O comitê regulador foi criado para garantir a conformidade com as normas setoriais\",\n",
        "        \"A auditoria interna identificou falhas nos controles financeiros da empresa\", \n",
        "        \"A fiscalização intensificou suas atividades para prevenir fraudes no setor\", \n",
        "        \"A governança corporativa garante transparência e responsabilidade nas decisões empresariais\", \n",
        "        \"A nova lei de proteção de dados exige que as empresas sejam mais cuidadosas com as informações dos clientes\", \n",
        "        \"A responsabilidade social tornou-se um pilar estratégico nas grandes corporações\", \n",
        "        \"A segurança cibernética é uma prioridade nas empresas de tecnologia financeira\", \n",
        "        \"A regulamentação bancária foi atualizada para enfrentar os desafios das fintechs\", \n",
        "        \"A gestão de riscos é fundamental para mitigar possíveis perdas financeiras\", \n",
        "        \"A conformidade ambiental assegura que as operações da empresa não prejudiquem o meio ambiente\", \n",
        "        \"O ato de diretor estabeleceu novas diretrizes para o funcionamento da empresa\", \n",
        "        \"Um comunicado foi emitido para esclarecer as mudanças na política interna\", \n",
        "        \"O Ato de Diretor definiu novos parâmetros para a política de crédito\", \n",
        "        \"O Ato Normativo Conjunto foi assinado por diferentes órgãos reguladores\", \n",
        "        \"O Ato do Presidente aprovou a reforma nas regulamentações financeiras\", \n",
        "        \"A Carta Circular foi enviada a todas as filiais para informar sobre as mudanças regulatórias\", \n",
        "        \"A Circular nº 345 estipula as novas regras de conduta para os bancos\", \n",
        "        \"Um comunicado conjunto foi emitido pelas agências reguladoras para coordenar a fiscalização\", \n",
        "        \"A Decisão Conjunta entre os reguladores aprovou a fusão das empresas sob determinadas condições\", \n",
        "        \"A Instrução Normativa BCB detalha os procedimentos para a implementação das novas regras de crédito\", \n",
        "        \"A Instrução Normativa Conjunta introduziu novas diretrizes para a proteção de dados financeiros\", \n",
        "        \"A Portaria Conjunta definiu os novos procedimentos de compliance em nível federal\", \n",
        "        \"A Resolução BCB regulamenta o uso de novos instrumentos financeiros no mercado\", \n",
        "        \"A Resolução CMN determina a forma de cálculo das taxas de juros aplicáveis aos empréstimos\",\n",
        "        \"O cheiro de café fresco encheu a cozinha naquela manhã fria\", \n",
        "        \"Os pássaros cantavam alegremente ao amanhecer\", \n",
        "        \"Ele passou a tarde inteira lendo um livro de aventuras\", \n",
        "        \"As crianças correram pelo parque, rindo e brincando\", \n",
        "        \"O pôr do sol pintou o céu com tons de laranja e rosa\", \n",
        "        \"Ela decidiu plantar um jardim cheio de flores coloridas\", \n",
        "        \"O som das ondas quebrando na praia era relaxante\", \n",
        "        \"Um vento suave balançava as folhas das árvores no quintal\", \n",
        "        \"Eles se reuniram para um piquenique à beira do rio\", \n",
        "        \"O aroma de pão recém-assado era irresistível\", \n",
        "        \"A montanha coberta de neve parecia um cenário de filme\", \n",
        "        \"O cachorro correu atrás da bola, trazendo de volta com entusiasmo\", \n",
        "        \"Ele passou horas explorando trilhas em uma floresta densa\", \n",
        "        \"O verão trouxe dias longos e ensolarados, perfeitos para passeios\", \n",
        "        \"A noite estrelada parecia um tapete de brilhos no céu\", \n",
        "        \"Eles passaram a tarde jogando cartas em volta da lareira\", \n",
        "        \"As borboletas dançavam entre as flores no jardim\", \n",
        "        \"A brisa do mar refrescava enquanto caminhavam pela praia\",\n",
        "        \"O cheiro de terra molhada após a chuva era reconfortante\", \n",
        "        \"Ele passou a manhã fotografando as paisagens ao redor da cidade\", \n",
        "        \"A viagem de trem foi tranquila, com belas paisagens pela janela\", \n",
        "        \"Eles se perderam em uma conversa sobre o universo e as estrelas\", \n",
        "        \"A serenidade do campo proporcionava uma paz indescritível\", \n",
        "        \"Ela passou o dia aprendendo a tocar violão com tutoriais online\"\n",
        "    ],\n",
        "    'tag': [\n",
        "        \"consulta_normativa\", \n",
        "        \"consulta_normativa\", \n",
        "        \"consulta_normativa\", \n",
        "        \"consulta_normativa\", \n",
        "        \"consulta_normativa\", \n",
        "        \"consulta_normativa\", \n",
        "        \"consulta_normativa\", \n",
        "        \"consulta_normativa\", \n",
        "        \"consulta_normativa\", \n",
        "        \"consulta_normativa\", \n",
        "        \"consulta_normativa\", \n",
        "        \"consulta_normativa\", \n",
        "        \"consulta_normativa\", \n",
        "        \"consulta_normativa\", \n",
        "        \"consulta_normativa\", \n",
        "        \"consulta_normativa\", \n",
        "        \"consulta_normativa\", \n",
        "        \"consulta_normativa\", \n",
        "        \"consulta_normativa\", \n",
        "        \"consulta_normativa\", \n",
        "        \"consulta_normativa\", \n",
        "        \"consulta_normativa\", \n",
        "        \"consulta_normativa\", \n",
        "        \"consulta_normativa\", \n",
        "        \"consulta_normativa\", \n",
        "        \"outros_outros\", \n",
        "        \"outros_outros\", \n",
        "        \"outros_outros\", \n",
        "        \"outros_outros\", \n",
        "        \"outros_outros\", \n",
        "        \"outros_outros\", \n",
        "        \"outros_outros\", \n",
        "        \"outros_outros\", \n",
        "        \"outros_outros\", \n",
        "        \"outros_outros\", \n",
        "        \"outros_outros\", \n",
        "        \"outros_outros\", \n",
        "        \"outros_outros\", \n",
        "        \"outros_outros\", \n",
        "        \"outros_outros\", \n",
        "        \"outros_outros\", \n",
        "        \"outros_outros\", \n",
        "        \"outros_outros\", \n",
        "        \"outros_outros\", \n",
        "        \"outros_outros\", \n",
        "        \"outros_outros\", \n",
        "        \"outros_outros\", \n",
        "        \"outros_outros\", \n",
        "        \"outros_outros\", \n",
        "    ]\n",
        "}\n",
        "\n",
        "# Criar o DataFrame\n",
        "df = pd.DataFrame(data)\n",
        "\n",
        "# Exibir o DataFrame\n",
        "df.head()\n"
      ]
    },
    {
      "cell_type": "markdown",
      "metadata": {},
      "source": [
        "## Aplicando Pré-processamento ao Banco de dados"
      ]
    },
    {
      "cell_type": "code",
      "execution_count": 13,
      "metadata": {
        "colab": {
          "base_uri": "https://localhost:8080/",
          "height": 1000
        },
        "id": "SFnv96-d2Ofg",
        "outputId": "56f1b825-431e-4eb5-eb44-6b5fe1a78e3a"
      },
      "outputs": [
        {
          "data": {
            "text/html": [
              "<div>\n",
              "<style scoped>\n",
              "    .dataframe tbody tr th:only-of-type {\n",
              "        vertical-align: middle;\n",
              "    }\n",
              "\n",
              "    .dataframe tbody tr th {\n",
              "        vertical-align: top;\n",
              "    }\n",
              "\n",
              "    .dataframe thead th {\n",
              "        text-align: right;\n",
              "    }\n",
              "</style>\n",
              "<table border=\"1\" class=\"dataframe\">\n",
              "  <thead>\n",
              "    <tr style=\"text-align: right;\">\n",
              "      <th></th>\n",
              "      <th>frase</th>\n",
              "      <th>tag</th>\n",
              "      <th>frase_processada</th>\n",
              "    </tr>\n",
              "  </thead>\n",
              "  <tbody>\n",
              "    <tr>\n",
              "      <th>0</th>\n",
              "      <td>A regulação de mercado busca equilibrar a comp...</td>\n",
              "      <td>consulta_normativa</td>\n",
              "      <td>regulação mercado busca equilibrar competição ...</td>\n",
              "    </tr>\n",
              "    <tr>\n",
              "      <th>1</th>\n",
              "      <td>O comitê regulador foi criado para garantir a ...</td>\n",
              "      <td>consulta_normativa</td>\n",
              "      <td>comitê regulador criado garantir conformidade ...</td>\n",
              "    </tr>\n",
              "    <tr>\n",
              "      <th>2</th>\n",
              "      <td>A auditoria interna identificou falhas nos con...</td>\n",
              "      <td>consulta_normativa</td>\n",
              "      <td>auditoria interna identificou falhas controles...</td>\n",
              "    </tr>\n",
              "    <tr>\n",
              "      <th>3</th>\n",
              "      <td>A fiscalização intensificou suas atividades pa...</td>\n",
              "      <td>consulta_normativa</td>\n",
              "      <td>fiscalização intensificou atividades prevenir ...</td>\n",
              "    </tr>\n",
              "    <tr>\n",
              "      <th>4</th>\n",
              "      <td>A governança corporativa garante transparência...</td>\n",
              "      <td>consulta_normativa</td>\n",
              "      <td>governança corporativa garante transparência r...</td>\n",
              "    </tr>\n",
              "  </tbody>\n",
              "</table>\n",
              "</div>"
            ],
            "text/plain": [
              "                                               frase                 tag  \\\n",
              "0  A regulação de mercado busca equilibrar a comp...  consulta_normativa   \n",
              "1  O comitê regulador foi criado para garantir a ...  consulta_normativa   \n",
              "2  A auditoria interna identificou falhas nos con...  consulta_normativa   \n",
              "3  A fiscalização intensificou suas atividades pa...  consulta_normativa   \n",
              "4  A governança corporativa garante transparência...  consulta_normativa   \n",
              "\n",
              "                                    frase_processada  \n",
              "0  regulação mercado busca equilibrar competição ...  \n",
              "1  comitê regulador criado garantir conformidade ...  \n",
              "2  auditoria interna identificou falhas controles...  \n",
              "3  fiscalização intensificou atividades prevenir ...  \n",
              "4  governança corporativa garante transparência r...  "
            ]
          },
          "execution_count": 13,
          "metadata": {},
          "output_type": "execute_result"
        }
      ],
      "source": [
        "# Pré-processar as frases usando seu pipeline de pré-processamento\n",
        "df['frase_processada'] = df['frase'].apply(preprocess_model)\n",
        "df.head()"
      ]
    },
    {
      "cell_type": "markdown",
      "metadata": {},
      "source": [
        "## Divisão de treino e teste dos dados - Treinamento"
      ]
    },
    {
      "cell_type": "code",
      "execution_count": 14,
      "metadata": {
        "colab": {
          "base_uri": "https://localhost:8080/"
        },
        "id": "BESBA4ksqZop",
        "outputId": "9dc81666-fa55-4bad-e01b-ff7a14956e00"
      },
      "outputs": [],
      "source": [
        "# Dividir os dados em treino e teste\n",
        "X = df['frase_processada']  # Features (texto pré-processado)\n",
        "y = df['tag']  # Labels (intenção)\n",
        "X_train, X_test, y_train, y_test = train_test_split(X, y, test_size=0.4, random_state=42)\n",
        "\n",
        "# Vetorizar o texto (TF-IDF após seu pré-processamento)\n",
        "vectorizer = TfidfVectorizer()\n",
        "X_train_vec = vectorizer.fit_transform(X_train)\n",
        "X_test_vec = vectorizer.transform(X_test)\n",
        "\n",
        "# Treinar o modelo SVM\n",
        "model = LinearSVC()\n",
        "model.fit(X_train_vec, y_train)\n",
        "\n",
        "# Fazer previsões no conjunto de teste\n",
        "y_pred = model.predict(X_test_vec)"
      ]
    },
    {
      "cell_type": "markdown",
      "metadata": {},
      "source": [
        "## Avaliação das métricas do Modelo"
      ]
    },
    {
      "cell_type": "code",
      "execution_count": 15,
      "metadata": {
        "colab": {
          "base_uri": "https://localhost:8080/"
        },
        "id": "QFoEB7e1qZoq",
        "outputId": "f36eb07c-de81-4679-9a97-76202e0c07c5"
      },
      "outputs": [
        {
          "name": "stdout",
          "output_type": "stream",
          "text": [
            "Acurácia: 0.75\n",
            "Relatório de Classificação:\n",
            "                    precision    recall  f1-score   support\n",
            "\n",
            "consulta_normativa       0.64      1.00      0.78         9\n",
            "     outros_outros       1.00      0.55      0.71        11\n",
            "\n",
            "          accuracy                           0.75        20\n",
            "         macro avg       0.82      0.77      0.74        20\n",
            "      weighted avg       0.84      0.75      0.74        20\n",
            "\n"
          ]
        }
      ],
      "source": [
        "# Avaliar o modelo\n",
        "print(f\"Acurácia: {accuracy_score(y_test, y_pred)}\")\n",
        "print(\"Relatório de Classificação:\")\n",
        "print(classification_report(y_test, y_pred))"
      ]
    },
    {
      "cell_type": "markdown",
      "metadata": {},
      "source": [
        "## Exportação do modelo"
      ]
    },
    {
      "cell_type": "code",
      "execution_count": 16,
      "metadata": {},
      "outputs": [],
      "source": [
        "import pickle\n",
        "\n",
        "# Salvar o modelo\n",
        "with open('modelo_pln.pkl', 'wb') as file:\n",
        "    pickle.dump(model, file)"
      ]
    },
    {
      "cell_type": "code",
      "execution_count": 17,
      "metadata": {},
      "outputs": [],
      "source": [
        "# Salvar o vectorizer treinado\n",
        "with open('vectorizer.pkl', 'wb') as file:\n",
        "    pickle.dump(vectorizer, file)"
      ]
    },
    {
      "cell_type": "markdown",
      "metadata": {},
      "source": [
        "## Testes e predições"
      ]
    },
    {
      "cell_type": "code",
      "execution_count": 18,
      "metadata": {},
      "outputs": [],
      "source": [
        "# Lista de novas frases para testar no modelo\n",
        "novas_frases = [\n",
        "    # Auditoria Interna\n",
        "    \"Quais são as etapas de uma auditoria interna completa?\",\n",
        "    \"Como preparar um plano de auditoria interna eficaz?\",\n",
        "    \"Como devo reportar uma não conformidade encontrada durante a auditoria?\",\n",
        "    \"Quais são os princípios fundamentais da governança corporativa?\",\n",
        "    \"Como podemos melhorar a governança corporativa dentro da nossa organização?\",\n",
        "    \"Qual é o papel do conselho de administração na governança corporativa?\",\n",
        "    \"Quais são as principais regulamentações de compliance no setor financeiro?\",\n",
        "    \"Como garantir que nossa empresa cumpra com as novas leis de privacidade de dados?\",\n",
        "    \"Qual é o impacto das normas ISO na certificação de qualidade?\",\n",
        "    \"Eu quero todas as normas da BACEM\",\n",
        "    \"Eu quero jogar bola\",\n",
        "    \"Qual o carro mais rápido do mundo\",\n",
        "]"
      ]
    },
    {
      "cell_type": "code",
      "execution_count": 19,
      "metadata": {},
      "outputs": [
        {
          "name": "stdout",
          "output_type": "stream",
          "text": [
            "Frase: Quais são as etapas de uma auditoria interna completa?\n",
            "Intenção prevista: ['consulta_normativa']\n",
            "--------------------------------------------------\n",
            "Frase: Como preparar um plano de auditoria interna eficaz?\n",
            "Intenção prevista: ['consulta_normativa']\n",
            "--------------------------------------------------\n",
            "Frase: Como devo reportar uma não conformidade encontrada durante a auditoria?\n",
            "Intenção prevista: ['consulta_normativa']\n",
            "--------------------------------------------------\n",
            "Frase: Quais são os princípios fundamentais da governança corporativa?\n",
            "Intenção prevista: ['consulta_normativa']\n",
            "--------------------------------------------------\n",
            "Frase: Como podemos melhorar a governança corporativa dentro da nossa organização?\n",
            "Intenção prevista: ['consulta_normativa']\n",
            "--------------------------------------------------\n",
            "Frase: Qual é o papel do conselho de administração na governança corporativa?\n",
            "Intenção prevista: ['consulta_normativa']\n",
            "--------------------------------------------------\n",
            "Frase: Quais são as principais regulamentações de compliance no setor financeiro?\n",
            "Intenção prevista: ['consulta_normativa']\n",
            "--------------------------------------------------\n",
            "Frase: Como garantir que nossa empresa cumpra com as novas leis de privacidade de dados?\n",
            "Intenção prevista: ['consulta_normativa']\n",
            "--------------------------------------------------\n",
            "Frase: Qual é o impacto das normas ISO na certificação de qualidade?\n",
            "Intenção prevista: ['consulta_normativa']\n",
            "--------------------------------------------------\n",
            "Frase: Eu quero todas as normas da BACEM\n",
            "Intenção prevista: ['consulta_normativa']\n",
            "--------------------------------------------------\n",
            "Frase: Eu quero jogar bola\n",
            "Intenção prevista: ['outros_outros']\n",
            "--------------------------------------------------\n",
            "Frase: Qual o carro mais rápido do mundo\n",
            "Intenção prevista: ['consulta_normativa']\n",
            "--------------------------------------------------\n"
          ]
        }
      ],
      "source": [
        "# Testar o modelo com cada nova frase\n",
        "for nova_frase in novas_frases:\n",
        "    # Pré-processar a nova frase\n",
        "    nova_frase_processada = preprocess_text(nova_frase)\n",
        "\n",
        "    # nova_frase_processada = to_string(nova_frase_processada)\n",
        "    \n",
        "    # Vetorizar a nova frase\n",
        "    nova_frase_vec = vectorizer.transform([nova_frase_processada])\n",
        "    \n",
        "    # Fazer a previsão\n",
        "    predicao_nova_frase = model.predict(nova_frase_vec)\n",
        "    \n",
        "    # Exibir o resultado\n",
        "    print(f\"Frase: {nova_frase}\")\n",
        "    print(f\"Intenção prevista: {predicao_nova_frase}\")\n",
        "    print('-' * 50)"
      ]
    },
    {
      "cell_type": "markdown",
      "metadata": {},
      "source": [
        "## Extraindo entidades"
      ]
    },
    {
      "cell_type": "code",
      "execution_count": 20,
      "metadata": {},
      "outputs": [],
      "source": [
        "import re\n",
        "from datetime import datetime, timedelta"
      ]
    },
    {
      "cell_type": "code",
      "execution_count": 21,
      "metadata": {},
      "outputs": [],
      "source": [
        "# Função para processar datas\n",
        "def processar_data(expressao_data):\n",
        "    if expressao_data is None:\n",
        "        return None\n",
        "\n",
        "    hoje = datetime.today()\n",
        "\n",
        "    if expressao_data.lower() == \"semana passada\" or \"semana passado\":\n",
        "        data_inicial = hoje - timedelta(days=hoje.weekday() + 7)\n",
        "        data_final = data_inicial + timedelta(days=6)\n",
        "        return f\"{data_inicial.date()} até {data_final.date()}\"\n",
        "\n",
        "    elif expressao_data.lower() == \"mês passado\":\n",
        "        primeiro_dia_mes = hoje.replace(day=1)\n",
        "        ultimo_dia_mes_passado = primeiro_dia_mes - timedelta(days=1)\n",
        "        primeiro_dia_mes_passado = ultimo_dia_mes_passado.replace(day=1)\n",
        "        return f\"{primeiro_dia_mes_passado.date()} até {ultimo_dia_mes_passado.date()}\"\n",
        "\n",
        "    elif expressao_data.lower() == \"ano passado\":\n",
        "        ano_passado = hoje.year - 1\n",
        "        return f\"01/01/{ano_passado} até 31/12/{ano_passado}\"\n",
        "\n",
        "    elif expressao_data.lower() == \"hoje\":\n",
        "        return hoje.strftime(\"%d/%m/%Y\")\n",
        "\n",
        "    elif expressao_data.lower() == \"ontem\":\n",
        "        ontem = hoje - timedelta(days=1)\n",
        "        return ontem.strftime(\"%d/%m/%Y\")\n",
        "\n",
        "    elif expressao_data.lower() == \"próxima semana\":\n",
        "        inicio_semana_proxima = hoje + timedelta(days=(7 - hoje.weekday()))\n",
        "        fim_semana_proxima = inicio_semana_proxima + timedelta(days=6)\n",
        "        return f\"{inicio_semana_proxima.date()} até {fim_semana_proxima.date()}\"\n",
        "\n",
        "    # Captura padrões como \"julho de 2023\" ou \"dezembro de 2022\"\n",
        "    elif re.match(r\"(janeiro|fevereiro|março|abril|maio|junho|julho|agosto|setembro|outubro|novembro|dezembro) de \\d{4}\", expressao_data.lower()):\n",
        "        # Mapeia os meses para números\n",
        "        meses = {\n",
        "            \"janeiro\": 1, \"fevereiro\": 2, \"março\": 3, \"abril\": 4, \"maio\": 5, \"junho\": 6,\n",
        "            \"julho\": 7, \"agosto\": 8, \"setembro\": 9, \"outubro\": 10, \"novembro\": 11, \"dezembro\": 12\n",
        "        }\n",
        "        partes = expressao_data.lower().split(\" de \")\n",
        "        mes = meses[partes[0]]\n",
        "        ano = int(partes[1])\n",
        "        primeiro_dia = datetime(ano, mes, 1)\n",
        "        if mes == 12:\n",
        "            ultimo_dia = datetime(ano, mes, 31)\n",
        "        else:\n",
        "            ultimo_dia = datetime(ano, mes + 1, 1) - timedelta(days=1)\n",
        "        return f\"{primeiro_dia.date()} até {ultimo_dia.date()}\"\n",
        "\n",
        "    elif re.match(r\"\\d{1,2}/\\d{1,2}/\\d{4}\", expressao_data):\n",
        "        return expressao_data  # Retorna a data no formato dd/mm/yyyy\n",
        "\n",
        "    return expressao_data"
      ]
    },
    {
      "cell_type": "code",
      "execution_count": 54,
      "metadata": {},
      "outputs": [],
      "source": [
        "# Função para enriquecer ainda mais a extração de entidades com regex\n",
        "def extrair_entidades_regex(texto):\n",
        "    entidades = {\n",
        "        'regulator': 'BACEN',\n",
        "        'type': None,\n",
        "        'number':None,\n",
        "        'topic':None,\n",
        "        'date': None,\n",
        "        'organization': None,\n",
        "        'tag': None,\n",
        "    }\n",
        "\n",
        "    # Padrões regex ainda mais ricos\n",
        "    padrao_regulator = r\"\\b(BACEM)\\b\"\n",
        "\n",
        "    padrao_type = r\"\\b(Ato de Diretor|Ato Normativo Conjunto|Ato do Presidente|Carta Circular|Circular|Comunicado|Comunicado Conjunto|Decisão Conjunta|Instrução Normativa BCB|Instrução Normativa Conjunta|Portaria Conjunta|Resolução BCB|Resolução CMN|Resolução Conjunta|Resolução Coremec)\\b\"\n",
        "\n",
        "    #ANALISAR LÓGICA PARA OS TÓPICOS\n",
        "    padrao_topic = r\"\\b(Divulga a Taxa Básica Financeira)\\b\"\n",
        "\n",
        "    padrao_organization = r\"\\b(DEMAB)\\b\"\n",
        "\n",
        "    #Adicionar lógica para buscar normas revogadas\n",
        "\n",
        "    padrao_tag = r\"\\b(Taxa Básica Financeira(TBF)|Operações do Mercado Aberto)\\b\"\n",
        "\n",
        "    padrao_date = r\"\\b(de hoje|ultimo dia|semana passada|semana passdo|mês passado|ano passado|hoje|ontem|próxima semana|dezembro de \\d{4}|janeiro de \\d{4}|fevereiro de \\d{4}|março de \\d{4}|abril de \\d{4}|maio de \\d{4}|junho de \\d{4}|julho de \\d{4}|agosto de \\d{4}|setembro de \\d{4}|outubro de \\d{4}|novembro de \\d{4}|\\d{1,2}/\\d{1,2}/\\d{4})\\b\"\n",
        "\n",
        "    padrao_number = r\"\\b\\d+\\b\"\n",
        "\n",
        "    regulator = re.search(padrao_regulator, texto, re.IGNORECASE)\n",
        "    if regulator:\n",
        "        entidades['regulator'] = regulator.group(0)\n",
        "\n",
        "    type = re.search(padrao_type, texto, re.IGNORECASE)\n",
        "    if type:\n",
        "        entidades['type'] = type.group(0)  # Mantém o formato original do texto\n",
        "\n",
        "    number = re.search(padrao_number, texto, re.IGNORECASE)\n",
        "    if number:\n",
        "        entidades['number'] = number.group(0)\n",
        "\n",
        "    topic = re.search(padrao_topic, texto, re.IGNORECASE)\n",
        "    if topic:\n",
        "        entidades['topic'] = topic.group(0)\n",
        "\n",
        "    date = re.search(padrao_date, texto, re.IGNORECASE)\n",
        "    if date:\n",
        "        entidades['date'] = processar_data(date.group(0))\n",
        "\n",
        "    organization = re.search(padrao_organization, texto, re.IGNORECASE)\n",
        "    if organization:\n",
        "        entidades['organization'] = organization.group(0)\n",
        "\n",
        "    tag = re.search(padrao_tag, texto, re.IGNORECASE)\n",
        "    if tag:\n",
        "        entidades['tag'] = tag.group(0)\n",
        "\n",
        "    return entidades"
      ]
    },
    {
      "cell_type": "code",
      "execution_count": 23,
      "metadata": {},
      "outputs": [],
      "source": [
        "# Função para identificar entidades\n",
        "def entidades(nova_frase_processada):\n",
        "    print(nova_frase_processada)\n",
        "    entidades = extrair_entidades_regex(nova_frase_processada)  # Extrai as entidades usando regex\n",
        "    print(entidades)\n",
        "    return entidades"
      ]
    },
    {
      "cell_type": "markdown",
      "metadata": {},
      "source": [
        "# Turbinando o Pré-processamento com IA Generativa - Gemini"
      ]
    },
    {
      "cell_type": "code",
      "execution_count": 24,
      "metadata": {},
      "outputs": [
        {
          "name": "stdout",
          "output_type": "stream",
          "text": [
            "Note: you may need to restart the kernel to use updated packages.\n"
          ]
        },
        {
          "name": "stderr",
          "output_type": "stream",
          "text": [
            "ERROR: pip's dependency resolver does not currently take into account all the packages that are installed. This behaviour is the source of the following dependency conflicts.\n",
            "tensorflow-intel 2.17.0 requires protobuf!=4.21.0,!=4.21.1,!=4.21.2,!=4.21.3,!=4.21.4,!=4.21.5,<5.0.0dev,>=3.20.3, but you have protobuf 5.28.2 which is incompatible.\n",
            "tf2onnx 1.16.1 requires protobuf~=3.20, but you have protobuf 5.28.2 which is incompatible.\n"
          ]
        }
      ],
      "source": [
        "%pip install -q -U google-generativeai"
      ]
    },
    {
      "cell_type": "code",
      "execution_count": 39,
      "metadata": {},
      "outputs": [],
      "source": [
        "lista_tipos = [\n",
        "    \"BACEM\",\n",
        "    \"DEMAB\"\n",
        "    \"Taxa Básica Financeira(TBF)\",\n",
        "    \"Operações do Mercado Aberto\",\n",
        "    \"Ato de Diretor\", \"Ato Normativo Conjunto\", \"Ato do Presidente\", \n",
        "    \"Carta Circular\", \"Circular\", \"Comunicado\", \"Comunicado Conjunto\", \n",
        "    \"Decisão Conjunta\", \"Instrução Normativa BCB\", \"Instrução Normativa Conjunta\", \n",
        "    \"Portaria Conjunta\", \"Resolução BCB\", \"Resolução CMN\", \"Resolução Conjunta\", \n",
        "    \"Resolução Coremec\", \"Regulação Financeira\", \"Fiscalização financeira\", \n",
        "    \"Governança regulatoria\", \"Fiscalização Interna\", \"Circular\", \"Governança\", \n",
        "    \"Financial Services\"\n",
        "    \n",
        "]"
      ]
    },
    {
      "cell_type": "code",
      "execution_count": 40,
      "metadata": {},
      "outputs": [],
      "source": [
        "context = f\"\"\"\n",
        "Você é um especialista em identificar a inteção do usuário e corrigir texto.\n",
        "\n",
        "lista com as palavaras corretas que temos no nosso banco: {lista_tipos}\n",
        "\n",
        "Exemplo de Input do usuário:\n",
        "Eu quero o comunicadu número quarenta e dois mill\n",
        "\n",
        "Seu output:\n",
        "Eu quero o comunicado n° 42000\n",
        "\n",
        "Siga essas instruções a risca:\n",
        "- Retorne apenas a frase corrigida sem nenhuma informação adicional\n",
        "- Nuemro com ponto, retorne apenas o numero (42.031 -> 42031)\n",
        "- Não remova informações do usuário. Apenas corrija o português e analise se ele quer usar alguma das palavras do nosso banco de palavras\n",
        "\n",
        "\"\"\""
      ]
    },
    {
      "cell_type": "code",
      "execution_count": 43,
      "metadata": {},
      "outputs": [],
      "source": [
        "import google.generativeai as genai\n",
        "import os\n",
        "from dotenv import load_dotenv\n",
        "\n",
        "load_dotenv()\n",
        "GEMINI_API_KEY = os.getenv('GEMINI_API_KEY')\n",
        "genai.configure(api_key=GEMINI_API_KEY)\n",
        "\n",
        "# Create the model\n",
        "generation_config = {\n",
        "  \"temperature\": 0.8,\n",
        "  \"top_p\": 0.95,\n",
        "  \"top_k\": 64,\n",
        "  \"max_output_tokens\": 8192,\n",
        "  \"response_mime_type\": \"text/plain\",\n",
        "}\n",
        "\n",
        "gemini = genai.GenerativeModel(\n",
        "  model_name=\"gemini-1.5-pro\",\n",
        "  system_instruction=context,\n",
        "  generation_config=generation_config,\n",
        "  # safety_settings = Adjust safety settings\n",
        "  # See https://ai.google.dev/gemini-api/docs/safety-settings\n",
        ")\n",
        "\n",
        "chat_session = gemini.start_chat(\n",
        "  history=[\n",
        "  ]\n",
        ")\n",
        "\n",
        "def gemini_chat(input):\n",
        "  response = gemini.generate_content(f\"\"\"Pergunta: {input}\"\"\")\n",
        "  print(response.text)\n",
        "  return response.text"
      ]
    },
    {
      "cell_type": "markdown",
      "metadata": {},
      "source": [
        "## Testes Gemini"
      ]
    },
    {
      "cell_type": "code",
      "execution_count": 47,
      "metadata": {},
      "outputs": [
        {
          "name": "stdout",
          "output_type": "stream",
          "text": [
            "Comunicado nº 42171 que divulga a Taxa Básica Financeira (TBF) do BACEN da organização DEMAB da tag Operações do Mercado Aberto de hoje \n",
            "\n"
          ]
        }
      ],
      "source": [
        "nova_frase = gemini_chat('comunicadu numero quareta e dois mil e 171 que divulga a taxa básia financeira da BACEN da organização DEMAB da tag Operações do dia de hoje ')"
      ]
    },
    {
      "cell_type": "markdown",
      "metadata": {},
      "source": [
        "## Testando extração de informações"
      ]
    },
    {
      "cell_type": "code",
      "execution_count": 55,
      "metadata": {},
      "outputs": [
        {
          "name": "stdout",
          "output_type": "stream",
          "text": [
            "Comunicado nº 42171 que divulga a Taxa Básica Financeira (TBF) do BACEN da organização DEMAB da tag Operações do Mercado Aberto de hoje \n",
            "\n",
            "{'regulator': 'BACEN', 'type': 'Comunicado', 'number': '42171', 'topic': 'divulga a Taxa Básica Financeira', 'date': '2024-09-16 até 2024-09-22', 'organization': 'DEMAB', 'tag': 'Operações do Mercado Aberto'}\n",
            "--------------------------------------------------\n"
          ]
        }
      ],
      "source": [
        "# Testar o modelo com cada nova frase\n",
        "# for nova_frase in novas_frases:\n",
        "# Pré-processar a nova frase\n",
        "# nova_frase_processada = preprocess_text(nova_frase)\n",
        "# Vetorizar a nova frase\n",
        "nova_frase_vec = vectorizer.transform([nova_frase])\n",
        "# Fazer a previsão\n",
        "predicao_nova_frase = model.predict(nova_frase_vec)\n",
        "\n",
        "if predicao_nova_frase == 'consulta_normativa':\n",
        "    ent = entidades(nova_frase)        \n",
        "    print('-' * 50)\n",
        "\n",
        "else:\n",
        "    print(\"Perdão, não posso responder a esse tipo de pergunta.\")\n",
        "    print('-' * 50)"
      ]
    },
    {
      "cell_type": "markdown",
      "metadata": {},
      "source": [
        "# Construção do SQL de consulta"
      ]
    },
    {
      "cell_type": "code",
      "execution_count": 51,
      "metadata": {},
      "outputs": [],
      "source": [
        "def construir_query(dados):\n",
        "    # Começa a construção da query\n",
        "    query = f\"\"\"    \n",
        "    SELECT\n",
        "        regulation.*,\n",
        "        regulator.name AS regulator_name,\n",
        "        regulator.scrapingurl AS regulator_scrapingul,\n",
        "        organization.name AS organization_name,\n",
        "        documenttype.name AS documenttype_name,\n",
        "        tag.name AS tag_name\n",
        "    FROM\n",
        "        regulation\n",
        "    INNER JOIN\n",
        "        regulator ON regulation.regulatorid = regulator.id\n",
        "    INNER JOIN\n",
        "        documenttype ON regulation.documenttypeid = documenttype.id\n",
        "    INNER JOIN\n",
        "        organization ON regulation.organizationid = organization.id\n",
        "    INNER join\n",
        "        regulationtags ON regulation.id = regulationtags.regulationid\n",
        "    inner join\n",
        "        tag ON tag.id = regulationtags.tagid\n",
        "\n",
        "    WHERE\n",
        "    \n",
        "    \"\"\"\n",
        "    \n",
        "    # Lista para armazenar condições\n",
        "    condicoes = []\n",
        "    \n",
        "    # Verifica cada campo e adiciona a condição se não for None\n",
        "    if dados['regulator'] is not None:\n",
        "        condicoes.append(f\" regulator.name ILIKE '{dados['regulator']}'\")\n",
        "    \n",
        "    if dados['type'] is not None:\n",
        "        condicoes.append(f\" documenttype.name ILIKE '{dados['type']}'\")\n",
        "\n",
        "    if dados['number'] is not None:\n",
        "        condicoes.append(f\" regulation.documentnumber = '{dados['number']}'\")\n",
        "\n",
        "    # if dados['topic'] is not None:\n",
        "    #     condicoes.append(f\" topic ILIKE = '{dados['topic']}'\")\n",
        "\n",
        "    # if dados['date'] is not None:\n",
        "    #     condicoes.append(f\" publicationdate ILIKE '{dados['date']}'\")\n",
        "\n",
        "    if dados['organization'] is not None:\n",
        "        condicoes.append(f\" organization.name ILIKE '{dados['organization']}'\")\n",
        "    \n",
        "    if dados['tag'] is not None:\n",
        "        condicoes.append(f\" tag.name ILIKE '{dados['tag']}'\")\n",
        "\n",
        "    if condicoes:\n",
        "        query += \" AND\".join(condicoes)\n",
        "    else:\n",
        "        query = query.replace(\" WHERE\", \"\")  # Remove o WHERE se não houver condições\n",
        "    \n",
        "    return query"
      ]
    },
    {
      "cell_type": "code",
      "execution_count": 52,
      "metadata": {},
      "outputs": [
        {
          "name": "stdout",
          "output_type": "stream",
          "text": [
            "    \n",
            "    SELECT\n",
            "        regulation.*,\n",
            "        regulator.name AS regulator_name,\n",
            "        regulator.scrapingurl AS regulator_scrapingul,\n",
            "        organization.name AS organization_name,\n",
            "        documenttype.name AS documenttype_name,\n",
            "        tag.name AS tag_name\n",
            "    FROM\n",
            "        regulation\n",
            "    INNER JOIN\n",
            "        regulator ON regulation.regulatorid = regulator.id\n",
            "    INNER JOIN\n",
            "        documenttype ON regulation.documenttypeid = documenttype.id\n",
            "    INNER JOIN\n",
            "        organization ON regulation.organizationid = organization.id\n",
            "    INNER join\n",
            "        regulationtags ON regulation.id = regulationtags.regulationid\n",
            "    inner join\n",
            "        tag ON tag.id = regulationtags.tagid\n",
            "\n",
            "    WHERE\n",
            "    \n",
            "     regulator.name ILIKE 'BACEN' AND documenttype.name ILIKE 'Comunicado' AND regulation.documentnumber = '42171' AND organization.name ILIKE 'DEMAB'\n"
          ]
        }
      ],
      "source": [
        "# Exemplo de uso:\n",
        "sql_query = construir_query(ent)\n",
        "print(sql_query)"
      ]
    },
    {
      "cell_type": "markdown",
      "metadata": {
        "id": "4kT-ubJiqZoq"
      },
      "source": [
        "## Explicabilidade - Bag of Words"
      ]
    },
    {
      "cell_type": "markdown",
      "metadata": {},
      "source": [
        "A explicabilidade serve para justificar, minimamente, o porquê nosso modelo está tomando certas decisões."
      ]
    },
    {
      "cell_type": "code",
      "execution_count": 32,
      "metadata": {},
      "outputs": [],
      "source": [
        "import re\n",
        "import numpy as np"
      ]
    },
    {
      "cell_type": "code",
      "execution_count": 33,
      "metadata": {},
      "outputs": [],
      "source": [
        "# Função que faz a tokenização das palavras\n",
        "def tokenize_bow(sentences):\n",
        "    vocab = set()\n",
        "    for sentence in sentences:\n",
        "        doc = nlp(sentence)\n",
        "        for token in doc:\n",
        "            if not token.is_stop and not token.is_punct:\n",
        "                vocab.add(token.text.lower())\n",
        "    return sorted(vocab)\n",
        "\n",
        "def extract_stop_words_bow(sentence):\n",
        "    doc = nlp(sentence)\n",
        "    return [token.text.lower() for token in doc if not token.is_stop and not token.is_punct]\n",
        "\n",
        "def generate_bow_bow(allsentences):\n",
        "    vocab = tokenize_bow(allsentences)\n",
        "    print(\"Word List for Document \\n{0} \\n\".format(vocab))\n",
        "\n",
        "    for sentence in allsentences:\n",
        "        words = extract_stop_words_bow(sentence)\n",
        "        bag_vector = np.zeros(len(vocab))\n",
        "        for w in words:\n",
        "            if w in vocab:\n",
        "                index = vocab.index(w)\n",
        "                bag_vector[index] += 1\n",
        "\n",
        "        print(\"{0} \\n{1}\\n\".format(sentence, np.array(bag_vector)))"
      ]
    },
    {
      "cell_type": "code",
      "execution_count": 34,
      "metadata": {},
      "outputs": [
        {
          "name": "stdout",
          "output_type": "stream",
          "text": [
            "Word List for Document \n",
            "['administração', 'auditoria', 'bacem', 'bola', 'carro', 'certificação', 'completa', 'compliance', 'conformidade', 'corporativa', 'cumpra', 'dados', 'devo', 'durante', 'eficaz', 'empresa', 'encontrada', 'etapas', 'financeiro', 'fundamentais', 'garantir', 'governança', 'impacto', 'interna', 'iso', 'jogar', 'leis', 'melhorar', 'mundo', 'normas', 'organização', 'papel', 'plano', 'podemos', 'preparar', 'principais', 'princípios', 'privacidade', 'qualidade', 'regulamentações', 'reportar', 'rápido', 'setor'] \n",
            "\n",
            "Quais são as etapas de uma auditoria interna completa? \n",
            "[0. 1. 0. 0. 0. 0. 1. 0. 0. 0. 0. 0. 0. 0. 0. 0. 0. 1. 0. 0. 0. 0. 0. 1.\n",
            " 0. 0. 0. 0. 0. 0. 0. 0. 0. 0. 0. 0. 0. 0. 0. 0. 0. 0. 0.]\n",
            "\n",
            "Como preparar um plano de auditoria interna eficaz? \n",
            "[0. 1. 0. 0. 0. 0. 0. 0. 0. 0. 0. 0. 0. 0. 1. 0. 0. 0. 0. 0. 0. 0. 0. 1.\n",
            " 0. 0. 0. 0. 0. 0. 0. 0. 1. 0. 1. 0. 0. 0. 0. 0. 0. 0. 0.]\n",
            "\n",
            "Como devo reportar uma não conformidade encontrada durante a auditoria? \n",
            "[0. 1. 0. 0. 0. 0. 0. 0. 1. 0. 0. 0. 1. 1. 0. 0. 1. 0. 0. 0. 0. 0. 0. 0.\n",
            " 0. 0. 0. 0. 0. 0. 0. 0. 0. 0. 0. 0. 0. 0. 0. 0. 1. 0. 0.]\n",
            "\n",
            "Quais são os princípios fundamentais da governança corporativa? \n",
            "[0. 0. 0. 0. 0. 0. 0. 0. 0. 1. 0. 0. 0. 0. 0. 0. 0. 0. 0. 1. 0. 1. 0. 0.\n",
            " 0. 0. 0. 0. 0. 0. 0. 0. 0. 0. 0. 0. 1. 0. 0. 0. 0. 0. 0.]\n",
            "\n",
            "Como podemos melhorar a governança corporativa dentro da nossa organização? \n",
            "[0. 0. 0. 0. 0. 0. 0. 0. 0. 1. 0. 0. 0. 0. 0. 0. 0. 0. 0. 0. 0. 1. 0. 0.\n",
            " 0. 0. 0. 1. 0. 0. 1. 0. 0. 1. 0. 0. 0. 0. 0. 0. 0. 0. 0.]\n",
            "\n",
            "Qual é o papel do conselho de administração na governança corporativa? \n",
            "[1. 0. 0. 0. 0. 0. 0. 0. 0. 1. 0. 0. 0. 0. 0. 0. 0. 0. 0. 0. 0. 1. 0. 0.\n",
            " 0. 0. 0. 0. 0. 0. 0. 1. 0. 0. 0. 0. 0. 0. 0. 0. 0. 0. 0.]\n",
            "\n",
            "Quais são as principais regulamentações de compliance no setor financeiro? \n",
            "[0. 0. 0. 0. 0. 0. 0. 1. 0. 0. 0. 0. 0. 0. 0. 0. 0. 0. 1. 0. 0. 0. 0. 0.\n",
            " 0. 0. 0. 0. 0. 0. 0. 0. 0. 0. 0. 1. 0. 0. 0. 1. 0. 0. 1.]\n",
            "\n",
            "Como garantir que nossa empresa cumpra com as novas leis de privacidade de dados? \n",
            "[0. 0. 0. 0. 0. 0. 0. 0. 0. 0. 1. 1. 0. 0. 0. 1. 0. 0. 0. 0. 1. 0. 0. 0.\n",
            " 0. 0. 1. 0. 0. 0. 0. 0. 0. 0. 0. 0. 0. 1. 0. 0. 0. 0. 0.]\n",
            "\n",
            "Qual é o impacto das normas ISO na certificação de qualidade? \n",
            "[0. 0. 0. 0. 0. 1. 0. 0. 0. 0. 0. 0. 0. 0. 0. 0. 0. 0. 0. 0. 0. 0. 1. 0.\n",
            " 1. 0. 0. 0. 0. 1. 0. 0. 0. 0. 0. 0. 0. 0. 1. 0. 0. 0. 0.]\n",
            "\n",
            "Eu quero todas as normas da BACEM \n",
            "[0. 0. 1. 0. 0. 0. 0. 0. 0. 0. 0. 0. 0. 0. 0. 0. 0. 0. 0. 0. 0. 0. 0. 0.\n",
            " 0. 0. 0. 0. 0. 1. 0. 0. 0. 0. 0. 0. 0. 0. 0. 0. 0. 0. 0.]\n",
            "\n",
            "Eu quero jogar bola \n",
            "[0. 0. 0. 1. 0. 0. 0. 0. 0. 0. 0. 0. 0. 0. 0. 0. 0. 0. 0. 0. 0. 0. 0. 0.\n",
            " 0. 1. 0. 0. 0. 0. 0. 0. 0. 0. 0. 0. 0. 0. 0. 0. 0. 0. 0.]\n",
            "\n",
            "Qual o carro mais rápido do mundo \n",
            "[0. 0. 0. 0. 1. 0. 0. 0. 0. 0. 0. 0. 0. 0. 0. 0. 0. 0. 0. 0. 0. 0. 0. 0.\n",
            " 0. 0. 0. 0. 1. 0. 0. 0. 0. 0. 0. 0. 0. 0. 0. 0. 0. 1. 0.]\n",
            "\n"
          ]
        }
      ],
      "source": [
        "generate_bow_bow(novas_frases)"
      ]
    },
    {
      "cell_type": "markdown",
      "metadata": {},
      "source": [
        "# Normas Associadas"
      ]
    },
    {
      "cell_type": "code",
      "execution_count": 2,
      "metadata": {},
      "outputs": [],
      "source": [
        "associate_types = [\n",
        "    \"Ato de Diretor\", \"Ato Normativo Conjunto\", \"Ato do Presidente\", \n",
        "    \"Carta Circular\", \"Circular\", \"Comunicado\", \"Comunicado Conjunto\", \n",
        "    \"Decisão Conjunta\", \"Instrução Normativa BCB\", \"Instrução Normativa Conjunta\", \n",
        "    \"Portaria Conjunta\", \"Resolução BCB\", \"Resolução CMN\", \"Resolução Conjunta\", \n",
        "    \"Resolução Coremec\"\n",
        "    \n",
        "]"
      ]
    },
    {
      "cell_type": "code",
      "execution_count": 3,
      "metadata": {},
      "outputs": [],
      "source": [
        "associate_context = f\"\"\"\n",
        "    Você é um especialista em identificar normas e regulamentos citados nos textos.\n",
        "\n",
        "    lista com as palavras-chaves de tipos de regulamentos da BACEN: {associate_types}\n",
        "\n",
        "    Exemplo de texto da regulamentação:\n",
        "    O Banco Central do Brasil, com base no disposto na Resolução BCB nº 75, de 23 de fevereiro de 2021, torna público que, das 12:00 às 12:30 horas do dia 2 de outubro de 2024, acolherá propostas das instituições financeiras participantes do módulo Ofpub para a realização de operações de venda de títulos públicos com compromisso de revenda assumido pela instituição financeira compradora, admitida a livre movimentação dos títulos, com as seguintes características:\n",
        "\n",
        "    Seu output:\n",
        "    backlinks: {\n",
        "        [\n",
        "            {\n",
        "                \"documenttype\": \"Resolução BCB\",\n",
        "                \"documentnumber\": 75,\n",
        "                \"publicationdate\": \"23/02/2021\"\n",
        "            }\n",
        "        ]\n",
        "    }\n",
        "\n",
        "    Siga essas instruções a risca:\n",
        "    - Retorne apenas a lista de normas e regulamentos citados no texto\n",
        "    - Retorne apenas regulamentos cujo tipo esteja na lista de tipos de regulamentos da BACEN\n",
        "    - Nuemro com ponto, retorne apenas o numero (42.031 -> 42031)\n",
        "    - Não remova informações do texto, principalmente tipo de regulamento e numeração. Apenas identifique as normas e regulamentos citados\n",
        "\n",
        "\"\"\""
      ]
    },
    {
      "cell_type": "code",
      "execution_count": 4,
      "metadata": {},
      "outputs": [
        {
          "name": "stderr",
          "output_type": "stream",
          "text": [
            "c:\\Users\\Inteli\\Documents\\GitHub\\2024-2A-T09-ES07-G04\\src\\backend\\pln\\venv\\Lib\\site-packages\\tqdm\\auto.py:21: TqdmWarning: IProgress not found. Please update jupyter and ipywidgets. See https://ipywidgets.readthedocs.io/en/stable/user_install.html\n",
            "  from .autonotebook import tqdm as notebook_tqdm\n"
          ]
        }
      ],
      "source": [
        "import google.generativeai as genai\n",
        "import os\n",
        "from dotenv import load_dotenv\n",
        "\n",
        "load_dotenv()\n",
        "GEMINI_API_KEY = os.getenv('GEMINI_API_KEY')\n",
        "genai.configure(api_key=GEMINI_API_KEY)\n",
        "\n",
        "# Create the model\n",
        "associate_generation_config = {\n",
        "  \"temperature\": 0.8,\n",
        "  \"top_p\": 0.95,\n",
        "  \"top_k\": 64,\n",
        "  \"max_output_tokens\": 8192,\n",
        "  \"response_mime_type\": \"text/plain\",\n",
        "}\n",
        "\n",
        "associate_gemini = genai.GenerativeModel(\n",
        "  model_name=\"gemini-1.5-pro\",\n",
        "  system_instruction=associate_context,\n",
        "  generation_config=associate_generation_config,\n",
        "  # safety_settings = Adjust safety settings\n",
        "  # See https://ai.google.dev/gemini-api/docs/safety-settings\n",
        ")\n",
        "\n",
        "associate_chat_session = associate_gemini.start_chat(\n",
        "  history=[\n",
        "  ]\n",
        ")\n",
        "\n",
        "def associate_gemini_chat(input):\n",
        "  response = associate_gemini.generate_content(f\"\"\"Regulação: {input}\"\"\")\n",
        "  print(response.text)\n",
        "  return response.text"
      ]
    },
    {
      "cell_type": "code",
      "execution_count": 5,
      "metadata": {},
      "outputs": [
        {
          "name": "stdout",
          "output_type": "stream",
          "text": [
            "backlinks: [{'documenttype': 'Resolução CMN', 'documentnumber': 2939, 'publicationdate': '26/03/2002'}, {'documenttype': 'Resolução BCB', 'documentnumber': 76, 'publicationdate': '23/02/2021'}]\n"
          ]
        }
      ],
      "source": [
        "regulation = associate_gemini_chat(\"\"\"\n",
        " O Banco Central do Brasil, tendo em vista o disposto na Resolução CMN nº 2.939, de 26 de março de 2002, e na Resolução BCB nº 76, de 23 de fevereiro de 2021, torna público que, das 11:30 às 11:40 horas do dia 11 de setembro de 2024, acolherá propostas das instituições financeiras participantes do módulo Oferta Pública (Ofpub) para a realização de operações de swap a serem registradas na B3 - Brasil, Bolsa, Balcão S.A., nos termos do \"Contrato de Swap Cambial com Ajuste Periódico Baseado em Operações Compromissadas de Um Dia - SCS\" daquela bolsa, com as seguintes características:\n",
        "\"\"\")"
      ]
    },
    {
      "cell_type": "code",
      "execution_count": 6,
      "metadata": {},
      "outputs": [],
      "source": [
        "def construir_query_backlink(lista_dados):\n",
        "    # Começa a construção da query\n",
        "    query = f\"\"\"    \n",
        "    SELECT\n",
        "        regulation.id,\n",
        "        documenttype.name,\n",
        "        regulation.documentnumber\n",
        "    FROM\n",
        "        regulation\n",
        "        JOIN documenttype on documenttype.id = regulation.documenttypeid\n",
        "    WHERE\n",
        "    \"\"\"\n",
        "    \n",
        "    # Lista para armazenar condições de cada regulamento\n",
        "    condicoes = []\n",
        "    \n",
        "    # Loop sobre cada item da lista de dados\n",
        "    for dados in lista_dados:\n",
        "        # Verifica se os campos não são None e monta a condição para cada regulamento\n",
        "        condicao = []\n",
        "        \n",
        "        if 'documenttype' in dados and dados['documenttype'] is not None:\n",
        "            condicao.append(f\"documenttype.name ILIKE '{dados['documenttype']}'\")\n",
        "        \n",
        "        if 'documentnumber' in dados and dados['documentnumber'] is not None:\n",
        "            condicao.append(f\"regulation.documentnumber = {dados['documentnumber']}\")\n",
        "        \n",
        "        if 'publicationdate' in dados and dados['publicationdate'] is not None:\n",
        "            condicao.append(f\"regulation.publicationdate = '{dados['publicationdate']}'\")\n",
        "        \n",
        "\n",
        "        if condicao:\n",
        "            condicoes.append(f\"({' AND '.join(condicao)})\")\n",
        "    \n",
        "    if condicoes:\n",
        "        query += \" OR \".join(condicoes)\n",
        "    else:\n",
        "        query = None\n",
        "    \n",
        "    return query"
      ]
    },
    {
      "cell_type": "code",
      "execution_count": 7,
      "metadata": {},
      "outputs": [
        {
          "name": "stdout",
          "output_type": "stream",
          "text": [
            "    \n",
            "    SELECT\n",
            "        regulation.id,\n",
            "        documenttype.name,\n",
            "        regulation.documentnumber\n",
            "    FROM\n",
            "        regulation\n",
            "        JOIN documenttype on documenttype.id = regulation.documenttypeid\n",
            "    WHERE\n",
            "    (documenttype.name ILIKE 'Resolução CMN' AND regulation.documentnumber = 2939 AND regulation.publicationdate = '26/03/2002') OR (documenttype.name ILIKE 'Resolução BCB' AND regulation.documentnumber = 76 AND regulation.publicationdate = '23/02/2021')\n"
          ]
        }
      ],
      "source": [
        "sql_query = construir_query_backlink([{'documenttype': 'Resolução CMN', 'documentnumber': 2939, 'publicationdate': '26/03/2002'}, {'documenttype': 'Resolução BCB', 'documentnumber': 76, 'publicationdate': '23/02/2021'}])\n",
        "print(sql_query)"
      ]
    }
  ],
  "metadata": {
    "colab": {
      "collapsed_sections": [
        "4kT-ubJiqZoq"
      ],
      "provenance": []
    },
    "kernelspec": {
      "display_name": "Python 3",
      "language": "python",
      "name": "python3"
    },
    "language_info": {
      "codemirror_mode": {
        "name": "ipython",
        "version": 3
      },
      "file_extension": ".py",
      "mimetype": "text/x-python",
      "name": "python",
      "nbconvert_exporter": "python",
      "pygments_lexer": "ipython3",
      "version": "3.11.9"
    }
  },
  "nbformat": 4,
  "nbformat_minor": 0
}
